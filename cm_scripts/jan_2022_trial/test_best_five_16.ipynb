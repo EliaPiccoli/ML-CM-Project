{
 "cells": [
  {
   "cell_type": "code",
   "execution_count": 1,
   "metadata": {},
   "outputs": [],
   "source": [
    "import numpy as np\n",
    "from numpy.core.numeric import True_\n",
    "import time\n",
    "import matplotlib.pyplot as plt\n",
    "import sys\n",
    "import math\n",
    "import pickle\n",
    "\n",
    "import sys\n",
    "sys.path.insert(0,'..')\n",
    "import get_cup_dataset as dt\n",
    "from SVR import SVR"
   ]
  },
  {
   "cell_type": "code",
   "execution_count": 2,
   "metadata": {},
   "outputs": [],
   "source": [
    "def plot_svr_predict(svr, x, y, pred, text=\"fig_title\"):\n",
    "    fig,axs = plt.subplots(2,5, figsize=(15,15))\n",
    "    for i in range(x.shape[1]):\n",
    "        axs[i//(x.shape[1]//2)][i%(x.shape[1]//2)].scatter(x[:,i],y,color=\"red\",marker='x')\n",
    "        axs[i//(x.shape[1]//2)][i%(x.shape[1]//2)].scatter(x[:,i],pred,color=\"blue\",marker='.')\n",
    "    fig.suptitle(text)\n",
    "    plt.show()"
   ]
  },
  {
   "cell_type": "code",
   "execution_count": 3,
   "metadata": {},
   "outputs": [],
   "source": [
    "start = time.time()\n",
    "first_dim = True\n",
    "data, data_out = dt._get_cup('train')\n",
    "data_out = data_out[:, 0]\n",
    "maxiter = 250000\n",
    "max_error_target_func_value = 1e-3\n",
    "target_func_value = -3924.177658337275  # -3931.993812701131"
   ]
  },
  {
   "cell_type": "code",
   "execution_count": 4,
   "metadata": {},
   "outputs": [
    {
     "name": "stdout",
     "output_type": "stream",
     "text": [
      "Training first model ... \n"
     ]
    },
    {
     "data": {
      "image/png": "[encoded data removed]",
      "text/plain": [
       "<Figure size 432x288 with 2 Axes>"
      ]
     },
     "metadata": {
      "needs_background": "light"
     },
     "output_type": "display_data"
    },
    {
     "name": "stdout",
     "output_type": "stream",
     "text": [
      "Fit time: 3591.710849046707, #SV: 1515\n",
      "DEVSET MEE: 3.539054922933371\n"
     ]
    }
   ],
   "source": [
    "cup_model = SVR('linear', box=1, eps=1)\n",
    "print(\"Training first model ... \")\n",
    "opt_argv = {'alpha': 0.7, 'psi': 0.3, 'eps': 0.1, 'rho': 0.8, 'deltares': 0.00005, 'maxiter': maxiter}  # 16\n",
    "cup_model.fit(data, data_out, optim_args=opt_argv, optim_verbose=False, convergence_verbose=True, max_error_target_func_value = max_error_target_func_value, target_func_value = target_func_value)\n",
    "pred_1 = [float(cup_model.predict(data[i])) for i in range(data.shape[0])]\n",
    "mee = 0\n",
    "for i in range(len(pred_1)):\n",
    "    mee += math.sqrt((data_out[i] - pred_1[i])**2)\n",
    "mee = mee/len(pred_1)\n",
    "print(f\"DEVSET MEE: {mee}\")\n",
    "plot_svr_predict(cup_model, data, data_out, pred_1, text='1st output dim - Dev')"
   ]
  },
  {
   "cell_type": "code",
   "execution_count": 8,
   "metadata": {},
   "outputs": [
    {
     "data": {
      "text/plain": [
       "(-3924.177217527089, 'acceptable')"
      ]
     },
     "execution_count": 8,
     "metadata": {},
     "output_type": "execute_result"
    }
   ],
   "source": [
    "cup_model.history['fstar'], cup_model.status"
   ]
  },
  {
   "cell_type": "code",
   "execution_count": 9,
   "metadata": {},
   "outputs": [
    {
     "data": {
      "text/plain": [
       "83324"
      ]
     },
     "execution_count": 9,
     "metadata": {},
     "output_type": "execute_result"
    }
   ],
   "source": [
    "len(cup_model.history['f'])"
   ]
  },
  {
   "cell_type": "code",
   "execution_count": 10,
   "metadata": {},
   "outputs": [
    {
     "name": "stdout",
     "output_type": "stream",
     "text": [
      "GridSearch output succesfully saved to ../gs_models/gs_linear_16\n"
     ]
    }
   ],
   "source": [
    "import os\n",
    "save_path = \"../gs_models/gs_linear_16\"\n",
    "with open(save_path, \"wb\") as f:\n",
    "    pickle.dump({\"model\": cup_model}, f, protocol=pickle.HIGHEST_PROTOCOL)\n",
    "    print(f\"GridSearch output succesfully saved to {save_path}\")"
   ]
  }
 ],
 "metadata": {
  "kernelspec": {
   "display_name": "Python 3",
   "language": "python",
   "name": "python3"
  },
  "language_info": {
   "codemirror_mode": {
    "name": "ipython",
    "version": 3
   },
   "file_extension": ".py",
   "mimetype": "text/x-python",
   "name": "python",
   "nbconvert_exporter": "python",
   "pygments_lexer": "ipython3",
   "version": "3.8.6"
  }
 },
 "nbformat": 4,
 "nbformat_minor": 4
}
