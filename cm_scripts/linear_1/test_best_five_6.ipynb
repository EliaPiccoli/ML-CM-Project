{
 "cells": [
  {
   "cell_type": "markdown",
   "metadata": {},
   "source": [
    "# RUN MODEL 6 WITH TARGET 17 (LINEAR 1st OUTPUT DIMENSION)"
   ]
  },
  {
   "cell_type": "code",
   "execution_count": null,
   "metadata": {},
   "outputs": [],
   "source": [
    "import pickle\n",
    "import sys\n",
    "sys.path.insert(0,'..')\n",
    "import get_cup_dataset as dt\n",
    "from SVR import SVR"
   ]
  },
  {
   "cell_type": "markdown",
   "metadata": {},
   "source": [
    "#### Fit the model"
   ]
  },
  {
   "cell_type": "code",
   "execution_count": null,
   "metadata": {},
   "outputs": [],
   "source": [
    "# get the data (first dimension)\n",
    "data, data_out = dt._get_cup('train')\n",
    "data_out = data_out[:, 0]\n",
    "# set very high cap on iterations\n",
    "maxiter = 250000\n",
    "# set parameters for 'acceptable' scenario\n",
    "max_error_target_func_value = 1e-3\n",
    "target_func_value = -3924.177658337275 # 17 (get_best_model_minimum_50k.ipynb)\n",
    "# create model fixing best model configurations (found with model grid search)\n",
    "cup_model = SVR('linear', box=1, eps=1)\n",
    "print(\"Training first model ... \")\n",
    "# run model fixing algorithmic parameters of required model\n",
    "opt_argv = {'alpha': 0.5, 'psi': 0.15, 'eps': 0.1, 'rho': 0.8, 'deltares': 0.00005, 'maxiter': maxiter}  # 6\n",
    "cup_model.fit(data, data_out, optim_args=opt_argv, optim_verbose=False, convergence_verbose=True, max_error_target_func_value = max_error_target_func_value, target_func_value = target_func_value)"
   ]
  },
  {
   "cell_type": "code",
   "execution_count": null,
   "metadata": {},
   "outputs": [],
   "source": [
    "# show f_best value of current model, as well as with which status the value was reached and in how many iters\n",
    "cup_model.history['fstar'], cup_model.status, len(cup_model.history['f'])"
   ]
  },
  {
   "cell_type": "markdown",
   "metadata": {},
   "source": [
    "*f_best* = -3924.1766879962893, *status* = 'acceptable', *iterations* = 166628"
   ]
  },
  {
   "cell_type": "code",
   "execution_count": null,
   "metadata": {},
   "outputs": [],
   "source": [
    "# save model\n",
    "save_path = \"../gs_models/gs_linear_1_6\"\n",
    "with open(save_path, \"wb\") as f:\n",
    "    pickle.dump({\"model\": cup_model}, f, protocol=pickle.HIGHEST_PROTOCOL)\n",
    "    print(f\"Model succesfully saved to {save_path}\")"
   ]
  }
 ],
 "metadata": {
  "kernelspec": {
   "display_name": "Python 3",
   "language": "python",
   "name": "python3"
  },
  "language_info": {
   "codemirror_mode": {
    "name": "ipython",
    "version": 3
   },
   "file_extension": ".py",
   "mimetype": "text/x-python",
   "name": "python",
   "nbconvert_exporter": "python",
   "pygments_lexer": "ipython3",
   "version": "3.8.6"
  }
 },
 "nbformat": 4,
 "nbformat_minor": 4
}
