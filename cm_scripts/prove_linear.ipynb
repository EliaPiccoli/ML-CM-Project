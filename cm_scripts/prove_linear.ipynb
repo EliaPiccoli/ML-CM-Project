{
 "cells": [
  {
   "cell_type": "code",
   "execution_count": 33,
   "metadata": {},
   "outputs": [],
   "source": [
    "import numpy as np\n",
    "from sklearn.preprocessing import StandardScaler\n",
    "from sklearn.metrics import r2_score, mean_squared_error\n",
    "import kernel as krnl\n",
    "from deflected_subgradient import solveDeflected\n",
    "from SVR import SVR\n",
    "import matplotlib.pyplot as plt\n",
    "import random\n",
    "from svr_grid_search import Gridsearch\n",
    "import time"
   ]
  },
  {
   "cell_type": "code",
   "execution_count": 49,
   "metadata": {},
   "outputs": [],
   "source": [
    "def create_kernel(x, kernel, coef, degree, gamma):\n",
    "    # interface function to get the desired kernel output\n",
    "    if kernel == 'linear':\n",
    "        return krnl.linear(x, x)\n",
    "    elif kernel == 'rbf':\n",
    "        return krnl.rbf(x, x, gamma)\n",
    "    elif kernel == 'poly':\n",
    "        return krnl.poly(x, x, gamma, degree, coef)\n",
    "    elif kernel == 'sigmoid':\n",
    "        return krnl.sigmoid(x, x, gamma, coef)\n",
    "\n",
    "# method to get the fstar of a sklearn svr model\n",
    "def sklearn_fstar(x, y, sklearn_model):\n",
    "    # create a correct betas array, filling with zeros where needed\n",
    "    betas = np.zeros(sklearn_model.shape_fit_[0])\n",
    "    dual_coef_iter = 0\n",
    "    for i in range(sklearn_model.shape_fit_[0]):\n",
    "        if i in sklearn_model.support_:\n",
    "            betas[i] = sklearn_model.dual_coef_[0][dual_coef_iter]\n",
    "            dual_coef_iter += 1\n",
    "        else:\n",
    "            betas[i] = 0.0\n",
    "    betas = np.vstack(betas)\n",
    "    \n",
    "    # create kernel\n",
    "    K = create_kernel(x, sklearn_model.kernel, sklearn_model.coef0, sklearn_model.degree, sklearn_model.gamma)[0]\n",
    "    \n",
    "    # calculate as in below formula\n",
    "    fstar = (0.5 * np.dot(np.dot(np.transpose(betas), K), betas) \n",
    "            + sklearn_model.epsilon * np.sum(np.abs(betas))\n",
    "            - np.transpose(y).dot(betas))\n",
    "    return fstar\n",
    "    "
   ]
  },
  {
   "attachments": {
    "image.png": {
     "image/png": "[encoded data removed]"
    }
   },
   "cell_type": "markdown",
   "metadata": {},
   "source": [
    "![image.png](attachment:image.png)"
   ]
  },
  {
   "cell_type": "code",
   "execution_count": 2,
   "metadata": {},
   "outputs": [
    {
     "data": {
      "image/png": "[encoded data removed]",
      "text/plain": [
       "<Figure size 432x288 with 1 Axes>"
      ]
     },
     "metadata": {
      "needs_background": "light"
     },
     "output_type": "display_data"
    }
   ],
   "source": [
    "x = np.vstack(np.arange(1,101,1))\n",
    "y = np.array([3*x[i]+random.uniform(-5,5) for i in range(len(x))])\n",
    "plt.scatter(x,y)\n",
    "plt.show()"
   ]
  },
  {
   "cell_type": "code",
   "execution_count": 29,
   "metadata": {
    "scrolled": true
   },
   "outputs": [
    {
     "name": "stdout",
     "output_type": "stream",
     "text": [
      "(GS - SVR) - Creating models\n",
      "(GS - SVR) - Fitting 18 models\n",
      "(GS - SVR) - model 1/18\n",
      "\t(GS - SVR) - Time taken: 5.371996879577637 - Remaining: 91.32394695281982\n",
      "(GS - SVR) - model 2/18\n",
      "\t(GS - SVR) - Time taken: 11.451030492782593 - Remaining: 91.60824394226074\n",
      "(GS - SVR) - model 3/18\n",
      "\t(GS - SVR) - Time taken: 17.41503357887268 - Remaining: 87.0751678943634\n",
      "(GS - SVR) - model 4/18\n",
      "\t(GS - SVR) - Time taken: 22.927997827529907 - Remaining: 80.24799239635468\n",
      "(GS - SVR) - model 5/18\n",
      "\t(GS - SVR) - Time taken: 29.651034355163574 - Remaining: 77.09268932342529\n",
      "(GS - SVR) - model 6/18\n",
      "\t(GS - SVR) - Time taken: 35.80703282356262 - Remaining: 71.61406564712524\n",
      "(GS - SVR) - model 7/18\n",
      "\t(GS - SVR) - Time taken: 41.709049463272095 - Remaining: 65.5427920137133\n",
      "(GS - SVR) - model 8/18\n",
      "\t(GS - SVR) - Time taken: 47.9780375957489 - Remaining: 59.97254699468613\n",
      "(GS - SVR) - model 9/18\n",
      "\t(GS - SVR) - Time taken: 54.137049436569214 - Remaining: 54.137049436569214\n",
      "(GS - SVR) - model 10/18\n",
      "\t(GS - SVR) - Time taken: 60.42703366279602 - Remaining: 48.341626930236814\n",
      "(GS - SVR) - model 11/18\n",
      "\t(GS - SVR) - Time taken: 66.6429991722107 - Remaining: 42.4091812914068\n",
      "(GS - SVR) - model 12/18\n",
      "\t(GS - SVR) - Time taken: 72.8830349445343 - Remaining: 36.44151747226715\n",
      "(GS - SVR) - model 13/18\n",
      "\t(GS - SVR) - Time taken: 79.51999545097351 - Remaining: 30.58461363498981\n",
      "(GS - SVR) - model 14/18\n",
      "\t(GS - SVR) - Time taken: 86.86103510856628 - Remaining: 24.81743860244751\n",
      "(GS - SVR) - model 15/18\n",
      "\t(GS - SVR) - Time taken: 94.02099633216858 - Remaining: 18.804199266433717\n",
      "(GS - SVR) - model 16/18\n",
      "\t(GS - SVR) - Time taken: 100.53503465652466 - Remaining: 12.566879332065582\n",
      "(GS - SVR) - model 17/18\n",
      "\t(GS - SVR) - Time taken: 107.37299537658691 - Remaining: 6.316058551563936\n",
      "(GS - SVR) - model 18/18\n",
      "\t(GS - SVR) - Time taken: 114.55799961090088 - Remaining: 0.0\n",
      "(GS - SVR) - Evaluating models\n",
      "(GS - SVR) - SVR: 0 - TR MEE 2.438155806102493 - VL MEE 2.16291708456571 - MODEL: \n",
      "Kernel: linear\n",
      "W: [[3.01730616]]\n",
      "Intercept: [-0.57128601]\\Optim_args: {'eps': 0.01, 'maxiter': 3000.0, 'vareps': 0.1}\n",
      "Box: 0.1\n",
      "\n",
      "(GS - SVR) - SVR: 1 - TR MEE 2.435943275873136 - VL MEE 2.1136092680259466 - MODEL: \n",
      "Kernel: linear\n",
      "W: [[3.01098465]]\n",
      "Intercept: [-0.31526465]\\Optim_args: {'eps': 0.005, 'maxiter': 3000.0, 'vareps': 0.1}\n",
      "Box: 0.1\n",
      "\n",
      "(GS - SVR) - SVR: 2 - TR MEE 58.65560666825386 - VL MEE 145.7285825566234 - MODEL: \n",
      "Kernel: linear\n",
      "W: [[0.08697437]]\n",
      "Intercept: [118.10715136]\\Optim_args: {'eps': 0.0005, 'maxiter': 3000.0, 'vareps': 0.1}\n",
      "Box: 0.1\n",
      "\n",
      "(GS - SVR) - SVR: 3 - TR MEE 2.4478857794719784 - VL MEE 2.09979227700085 - MODEL: \n",
      "Kernel: linear\n",
      "W: [[3.01730616]]\n",
      "Intercept: [-0.97128601]\\Optim_args: {'eps': 0.01, 'maxiter': 3000.0, 'vareps': 0.1}\n",
      "Box: 0.1\n",
      "\n",
      "(GS - SVR) - SVR: 4 - TR MEE 2.4581189681441886 - VL MEE 2.116362425815308 - MODEL: \n",
      "Kernel: linear\n",
      "W: [[3.01098465]]\n",
      "Intercept: [-0.71526465]\\Optim_args: {'eps': 0.005, 'maxiter': 3000.0, 'vareps': 0.1}\n",
      "Box: 0.1\n",
      "\n",
      "(GS - SVR) - SVR: 5 - TR MEE 58.65560666825387 - VL MEE 146.12858255662343 - MODEL: \n",
      "Kernel: linear\n",
      "W: [[0.08697437]]\n",
      "Intercept: [117.70715136]\\Optim_args: {'eps': 0.0005, 'maxiter': 3000.0, 'vareps': 0.1}\n",
      "Box: 0.1\n",
      "\n",
      "(GS - SVR) - SVR: 6 - TR MEE 11.193431499372158 - VL MEE 28.041814810968496 - MODEL: \n",
      "Kernel: linear\n",
      "W: [[3.56238232]]\n",
      "Intercept: [-22.64687051]\\Optim_args: {'eps': 0.01, 'maxiter': 3000.0, 'vareps': 0.1}\n",
      "Box: 1\n",
      "\n",
      "(GS - SVR) - SVR: 7 - TR MEE 2.435943275873175 - VL MEE 2.1136092680268077 - MODEL: \n",
      "Kernel: linear\n",
      "W: [[3.01098465]]\n",
      "Intercept: [-0.31526465]\\Optim_args: {'eps': 0.005, 'maxiter': 3000.0, 'vareps': 0.1}\n",
      "Box: 1\n",
      "\n",
      "(GS - SVR) - SVR: 8 - TR MEE 58.655606668260965 - VL MEE 145.72858255664136 - MODEL: \n",
      "Kernel: linear\n",
      "W: [[0.08697437]]\n",
      "Intercept: [118.10715136]\\Optim_args: {'eps': 0.0005, 'maxiter': 3000.0, 'vareps': 0.1}\n",
      "Box: 1\n",
      "\n",
      "(GS - SVR) - SVR: 9 - TR MEE 11.18343149937216 - VL MEE 27.64181481096846 - MODEL: \n",
      "Kernel: linear\n",
      "W: [[3.56238232]]\n",
      "Intercept: [-23.04687051]\\Optim_args: {'eps': 0.01, 'maxiter': 3000.0, 'vareps': 0.1}\n",
      "Box: 1\n",
      "\n",
      "(GS - SVR) - SVR: 10 - TR MEE 2.458118968144009 - VL MEE 2.1163624258146454 - MODEL: \n",
      "Kernel: linear\n",
      "W: [[3.01098465]]\n",
      "Intercept: [-0.71526465]\\Optim_args: {'eps': 0.005, 'maxiter': 3000.0, 'vareps': 0.1}\n",
      "Box: 1\n",
      "\n",
      "(GS - SVR) - SVR: 11 - TR MEE 58.65560666826097 - VL MEE 146.12858255664133 - MODEL: \n",
      "Kernel: linear\n",
      "W: [[0.08697437]]\n",
      "Intercept: [117.70715136]\\Optim_args: {'eps': 0.0005, 'maxiter': 3000.0, 'vareps': 0.1}\n",
      "Box: 1\n",
      "\n",
      "(GS - SVR) - SVR: 12 - TR MEE 3.0593155756315396 - VL MEE 6.03834566110744 - MODEL: \n",
      "Kernel: linear\n",
      "W: [[3.12231294]]\n",
      "Intercept: [-4.8240605]\\Optim_args: {'eps': 0.01, 'maxiter': 3000.0, 'vareps': 0.1}\n",
      "Box: 10\n",
      "\n",
      "(GS - SVR) - SVR: 13 - TR MEE 2.435943275872277 - VL MEE 2.113609268006776 - MODEL: \n",
      "Kernel: linear\n",
      "W: [[3.01098465]]\n",
      "Intercept: [-0.31526465]\\Optim_args: {'eps': 0.005, 'maxiter': 3000.0, 'vareps': 0.1}\n",
      "Box: 10\n",
      "\n",
      "(GS - SVR) - SVR: 14 - TR MEE 58.65560666811901 - VL MEE 145.72858255628597 - MODEL: \n",
      "Kernel: linear\n",
      "W: [[0.08697437]]\n",
      "Intercept: [118.10715135]\\Optim_args: {'eps': 0.0005, 'maxiter': 3000.0, 'vareps': 0.1}\n",
      "Box: 10\n",
      "\n",
      "(GS - SVR) - SVR: 15 - TR MEE 3.0812961982306417 - VL MEE 5.638345661107448 - MODEL: \n",
      "Kernel: linear\n",
      "W: [[3.12231294]]\n",
      "Intercept: [-5.2240605]\\Optim_args: {'eps': 0.01, 'maxiter': 3000.0, 'vareps': 0.1}\n",
      "Box: 10\n",
      "\n",
      "(GS - SVR) - SVR: 16 - TR MEE 2.4581189681481836 - VL MEE 2.116362425830178 - MODEL: \n",
      "Kernel: linear\n",
      "W: [[3.01098465]]\n",
      "Intercept: [-0.71526465]\\Optim_args: {'eps': 0.005, 'maxiter': 3000.0, 'vareps': 0.1}\n",
      "Box: 10\n",
      "\n",
      "(GS - SVR) - SVR: 17 - TR MEE 58.655606668119006 - VL MEE 146.12858255628595 - MODEL: \n",
      "Kernel: linear\n",
      "W: [[0.08697437]]\n",
      "Intercept: [117.70715135]\\Optim_args: {'eps': 0.0005, 'maxiter': 3000.0, 'vareps': 0.1}\n",
      "Box: 10\n",
      "\n",
      "(GS - SVR) - Best configuration: 3\n",
      "BEST COARSE GRID SEARCH MODEL: \n",
      "Kernel: linear\n",
      "W: [[3.01730616]]\n",
      "Intercept: [-0.97128601]\\Optim_args: {'eps': 0.01, 'maxiter': 3000.0, 'vareps': 0.1}\n",
      "Box: 0.1\n",
      "['linear', 'linear', 'linear', 'linear', 'linear', 'linear', 'linear', 'linear', 'linear', 'linear'] [{'gamma': None, 'degree': 1, 'coef': 0}, {}, {}, {}, {}, {}, {}, {}, {}, {}] [{'eps': 0.01, 'maxiter': 3000.0, 'vareps': 0.1}, {'eps': 0.041772659156260175, 'maxiter': 3000.0, 'vareps': 0.5}, {'eps': 0.00675602860634024, 'maxiter': 3000.0, 'vareps': 0.5}, {'eps': 0.0837949836588792, 'maxiter': 3000.0, 'vareps': 0.5}, {'eps': 0.030200066780006606, 'maxiter': 3000.0, 'vareps': 0.5}, {'eps': 0.07050578369322316, 'maxiter': 3000.0, 'vareps': 0.5}]\n",
      "(GS - SVR) - Creating models\n",
      "(GS - SVR) - Fitting 60 models\n",
      "(GS - SVR) - model 1/60\n",
      "\t(GS - SVR) - Time taken: 9.363998174667358 - Remaining: 552.4758923053741\n",
      "(GS - SVR) - model 2/60\n",
      "\t(GS - SVR) - Time taken: 18.60599994659424 - Remaining: 539.5739984512329\n",
      "(GS - SVR) - model 3/60\n",
      "\t(GS - SVR) - Time taken: 28.45900058746338 - Remaining: 540.7210111618042\n",
      "(GS - SVR) - model 4/60\n",
      "\t(GS - SVR) - Time taken: 37.67100262641907 - Remaining: 527.394036769867\n",
      "(GS - SVR) - model 5/60\n",
      "\t(GS - SVR) - Time taken: 46.934000730514526 - Remaining: 516.2740080356598\n",
      "(GS - SVR) - model 6/60\n",
      "\t(GS - SVR) - Time taken: 56.27000069618225 - Remaining: 506.43000626564026\n",
      "(GS - SVR) - model 7/60\n",
      "\t(GS - SVR) - Time taken: 65.85896515846252 - Remaining: 498.646450485502\n",
      "(GS - SVR) - model 8/60\n",
      "\t(GS - SVR) - Time taken: 75.1560492515564 - Remaining: 488.5143201351166\n",
      "(GS - SVR) - model 9/60\n",
      "\t(GS - SVR) - Time taken: 84.53000950813293 - Remaining: 479.00338721275324\n",
      "(GS - SVR) - model 10/60\n",
      "\t(GS - SVR) - Time taken: 93.41404867172241 - Remaining: 467.070243358612\n",
      "(GS - SVR) - model 11/60\n",
      "\t(GS - SVR) - Time taken: 102.00701308250427 - Remaining: 454.3948764584281\n",
      "(GS - SVR) - model 12/60\n",
      "\t(GS - SVR) - Time taken: 110.6690468788147 - Remaining: 442.6761875152588\n",
      "(GS - SVR) - model 13/60\n",
      "\t(GS - SVR) - Time taken: 119.94004964828491 - Remaining: 433.6294102668762\n",
      "(GS - SVR) - model 14/60\n",
      "\t(GS - SVR) - Time taken: 128.57703590393066 - Remaining: 422.4674036843436\n",
      "(GS - SVR) - model 15/60\n",
      "\t(GS - SVR) - Time taken: 137.84504055976868 - Remaining: 413.53512167930603\n",
      "(GS - SVR) - model 16/60\n",
      "\t(GS - SVR) - Time taken: 146.43305087089539 - Remaining: 402.6908898949623\n",
      "(GS - SVR) - model 17/60\n",
      "\t(GS - SVR) - Time taken: 155.13904356956482 - Remaining: 392.4105219700757\n",
      "(GS - SVR) - model 18/60\n"
     ]
    },
    {
     "name": "stdout",
     "output_type": "stream",
     "text": [
      "\t(GS - SVR) - Time taken: 163.93800950050354 - Remaining: 382.5220221678416\n",
      "(GS - SVR) - model 19/60\n",
      "\t(GS - SVR) - Time taken: 172.8520486354828 - Remaining: 372.9965260028839\n",
      "(GS - SVR) - model 20/60\n",
      "\t(GS - SVR) - Time taken: 181.76501393318176 - Remaining: 363.5300278663635\n",
      "(GS - SVR) - model 21/60\n",
      "\t(GS - SVR) - Time taken: 191.18701338768005 - Remaining: 355.0615962914058\n",
      "(GS - SVR) - model 22/60\n",
      "\t(GS - SVR) - Time taken: 199.96804857254028 - Remaining: 345.3993566252969\n",
      "(GS - SVR) - model 23/60\n",
      "\t(GS - SVR) - Time taken: 208.85401058197021 - Remaining: 335.98253876229995\n",
      "(GS - SVR) - model 24/60\n",
      "\t(GS - SVR) - Time taken: 217.60501146316528 - Remaining: 326.4075171947479\n",
      "(GS - SVR) - model 25/60\n",
      "\t(GS - SVR) - Time taken: 226.59204649925232 - Remaining: 317.22886509895324\n",
      "(GS - SVR) - model 26/60\n",
      "\t(GS - SVR) - Time taken: 235.94001007080078 - Remaining: 308.5369362464318\n",
      "(GS - SVR) - model 27/60\n",
      "\t(GS - SVR) - Time taken: 245.1320140361786 - Remaining: 299.6057949331072\n",
      "(GS - SVR) - model 28/60\n",
      "\t(GS - SVR) - Time taken: 254.84001278877258 - Remaining: 291.24572890145436\n",
      "(GS - SVR) - model 29/60\n",
      "\t(GS - SVR) - Time taken: 264.6820502281189 - Remaining: 282.9359847266099\n",
      "(GS - SVR) - model 30/60\n",
      "\t(GS - SVR) - Time taken: 273.7230134010315 - Remaining: 273.7230134010315\n",
      "(GS - SVR) - model 31/60\n",
      "\t(GS - SVR) - Time taken: 282.9690480232239 - Remaining: 264.7129804088223\n",
      "(GS - SVR) - model 32/60\n",
      "\t(GS - SVR) - Time taken: 291.9660472869873 - Remaining: 255.4702913761139\n",
      "(GS - SVR) - model 33/60\n",
      "\t(GS - SVR) - Time taken: 301.4490501880646 - Remaining: 246.64013197205284\n",
      "(GS - SVR) - model 34/60\n",
      "\t(GS - SVR) - Time taken: 310.31404876708984 - Remaining: 237.29897846895105\n",
      "(GS - SVR) - model 35/60\n",
      "\t(GS - SVR) - Time taken: 319.39901304244995 - Remaining: 228.14215217317852\n",
      "(GS - SVR) - model 36/60\n",
      "\t(GS - SVR) - Time taken: 328.4060626029968 - Remaining: 218.93737506866455\n",
      "(GS - SVR) - model 37/60\n",
      "\t(GS - SVR) - Time taken: 337.6350495815277 - Remaining: 209.88124703716585\n",
      "(GS - SVR) - model 38/60\n",
      "\t(GS - SVR) - Time taken: 346.718049287796 - Remaining: 200.73150221925033\n",
      "(GS - SVR) - model 39/60\n",
      "\t(GS - SVR) - Time taken: 356.24501299858093 - Remaining: 191.82423776846665\n",
      "(GS - SVR) - model 40/60\n",
      "\t(GS - SVR) - Time taken: 365.35801362991333 - Remaining: 182.67900681495667\n",
      "(GS - SVR) - model 41/60\n",
      "\t(GS - SVR) - Time taken: 374.7100613117218 - Remaining: 173.64612597372474\n",
      "(GS - SVR) - model 42/60\n",
      "\t(GS - SVR) - Time taken: 383.8840482234955 - Remaining: 164.52173495292664\n",
      "(GS - SVR) - model 43/60\n",
      "\t(GS - SVR) - Time taken: 393.1230490207672 - Remaining: 155.42074031053588\n",
      "(GS - SVR) - model 44/60\n",
      "\t(GS - SVR) - Time taken: 402.22326493263245 - Remaining: 146.26300543004817\n",
      "(GS - SVR) - model 45/60\n",
      "\t(GS - SVR) - Time taken: 411.67029643058777 - Remaining: 137.22343214352927\n",
      "(GS - SVR) - model 46/60\n",
      "\t(GS - SVR) - Time taken: 420.76429510116577 - Remaining: 128.05869850905046\n",
      "(GS - SVR) - model 47/60\n",
      "\t(GS - SVR) - Time taken: 429.91329550743103 - Remaining: 118.91218811907666\n",
      "(GS - SVR) - model 48/60\n",
      "\t(GS - SVR) - Time taken: 439.0392575263977 - Remaining: 109.75981438159943\n",
      "(GS - SVR) - model 49/60\n",
      "\t(GS - SVR) - Time taken: 448.240296125412 - Remaining: 100.62537259958228\n",
      "(GS - SVR) - model 50/60\n",
      "\t(GS - SVR) - Time taken: 457.28229570388794 - Remaining: 91.4564591407776\n",
      "(GS - SVR) - model 51/60\n",
      "\t(GS - SVR) - Time taken: 466.85429525375366 - Remaining: 82.38605210360359\n",
      "(GS - SVR) - model 52/60\n",
      "\t(GS - SVR) - Time taken: 475.87125754356384 - Remaining: 73.21096269900983\n",
      "(GS - SVR) - model 53/60\n",
      "\t(GS - SVR) - Time taken: 484.9372990131378 - Remaining: 64.04832251116915\n",
      "(GS - SVR) - model 54/60\n",
      "\t(GS - SVR) - Time taken: 494.3542973995209 - Remaining: 54.928255266613434\n",
      "(GS - SVR) - model 55/60\n",
      "\t(GS - SVR) - Time taken: 503.6820011138916 - Remaining: 45.7892728285356\n",
      "(GS - SVR) - model 56/60\n",
      "\t(GS - SVR) - Time taken: 512.4990003108978 - Remaining: 36.60707145077841\n",
      "(GS - SVR) - model 57/60\n",
      "\t(GS - SVR) - Time taken: 521.8270008563995 - Remaining: 27.46457899244208\n",
      "(GS - SVR) - model 58/60\n",
      "\t(GS - SVR) - Time taken: 530.856005191803 - Remaining: 18.305379489372516\n",
      "(GS - SVR) - model 59/60\n",
      "\t(GS - SVR) - Time taken: 539.9110026359558 - Remaining: 9.151033942982302\n",
      "(GS - SVR) - model 60/60\n",
      "\t(GS - SVR) - Time taken: 549.0259652137756 - Remaining: 0.0\n",
      "(GS - SVR) - Evaluating models\n",
      "(GS - SVR) - SVR: 0 - TR MEE 2.4053235503415973 - VL MEE 2.1415707244164737 - MODEL: \n",
      "Kernel: linear\n",
      "W: [[3.00825798]]\n",
      "Intercept: [-0.69195408]\\Optim_args: {'eps': 0.01, 'maxiter': 3000.0, 'vareps': 0.1}\n",
      "Box: 0.1\n",
      "\n",
      "(GS - SVR) - SVR: 1 - TR MEE 3.844079561101054 - VL MEE 5.356236663473963 - MODEL: \n",
      "Kernel: linear\n",
      "W: [[2.87954579]]\n",
      "Intercept: [5.80801138]\\Optim_args: {'eps': 0.041772659156260175, 'maxiter': 3000.0, 'vareps': 0.5}\n",
      "Box: 0.1\n",
      "\n",
      "(GS - SVR) - SVR: 2 - TR MEE 3.196293554508525 - VL MEE 3.690734862353054 - MODEL: \n",
      "Kernel: linear\n",
      "W: [[3.10428762]]\n",
      "Intercept: [-5.54145085]\\Optim_args: {'eps': 0.00675602860634024, 'maxiter': 3000.0, 'vareps': 0.5}\n",
      "Box: 0.1\n",
      "\n",
      "(GS - SVR) - SVR: 3 - TR MEE 4.595826063383942 - VL MEE 6.667029450485167 - MODEL: \n",
      "Kernel: linear\n",
      "W: [[2.84537029]]\n",
      "Intercept: [7.53387417]\\Optim_args: {'eps': 0.0837949836588792, 'maxiter': 3000.0, 'vareps': 0.5}\n",
      "Box: 0.1\n",
      "\n",
      "(GS - SVR) - SVR: 4 - TR MEE 4.354571894122812 - VL MEE 5.9825901082331585 - MODEL: \n",
      "Kernel: linear\n",
      "W: [[3.16161078]]\n",
      "Intercept: [-8.43627053]\\Optim_args: {'eps': 0.030200066780006606, 'maxiter': 3000.0, 'vareps': 0.5}\n",
      "Box: 0.1\n",
      "\n",
      "(GS - SVR) - SVR: 5 - TR MEE 6.218427431424022 - VL MEE 9.304313875414664 - MODEL: \n",
      "Kernel: linear\n",
      "W: [[3.24465387]]\n",
      "Intercept: [-12.62994678]\\Optim_args: {'eps': 0.07050578369322316, 'maxiter': 3000.0, 'vareps': 0.5}\n",
      "Box: 0.1\n",
      "\n",
      "(GS - SVR) - SVR: 6 - TR MEE 2.4053235503415973 - VL MEE 2.1415707244164737 - MODEL: \n",
      "Kernel: linear\n",
      "W: [[3.00825798]]\n",
      "Intercept: [-0.69195408]\\Optim_args: {'eps': 0.01, 'maxiter': 3000.0, 'vareps': 0.1}\n",
      "Box: 0.1\n",
      "\n",
      "(GS - SVR) - SVR: 7 - TR MEE 3.844079561101054 - VL MEE 5.356236663473963 - MODEL: \n",
      "Kernel: linear\n",
      "W: [[2.87954579]]\n",
      "Intercept: [5.80801138]\\Optim_args: {'eps': 0.041772659156260175, 'maxiter': 3000.0, 'vareps': 0.5}\n",
      "Box: 0.1\n",
      "\n",
      "(GS - SVR) - SVR: 8 - TR MEE 3.196293554508525 - VL MEE 3.690734862353054 - MODEL: \n",
      "Kernel: linear\n",
      "W: [[3.10428762]]\n",
      "Intercept: [-5.54145085]\\Optim_args: {'eps': 0.00675602860634024, 'maxiter': 3000.0, 'vareps': 0.5}\n",
      "Box: 0.1\n",
      "\n",
      "(GS - SVR) - SVR: 9 - TR MEE 4.595826063383942 - VL MEE 6.667029450485167 - MODEL: \n",
      "Kernel: linear\n",
      "W: [[2.84537029]]\n",
      "Intercept: [7.53387417]\\Optim_args: {'eps': 0.0837949836588792, 'maxiter': 3000.0, 'vareps': 0.5}\n",
      "Box: 0.1\n",
      "\n",
      "(GS - SVR) - SVR: 10 - TR MEE 4.354571894122812 - VL MEE 5.9825901082331585 - MODEL: \n",
      "Kernel: linear\n",
      "W: [[3.16161078]]\n",
      "Intercept: [-8.43627053]\\Optim_args: {'eps': 0.030200066780006606, 'maxiter': 3000.0, 'vareps': 0.5}\n",
      "Box: 0.1\n",
      "\n",
      "(GS - SVR) - SVR: 11 - TR MEE 6.218427431424022 - VL MEE 9.304313875414664 - MODEL: \n",
      "Kernel: linear\n",
      "W: [[3.24465387]]\n",
      "Intercept: [-12.62994678]\\Optim_args: {'eps': 0.07050578369322316, 'maxiter': 3000.0, 'vareps': 0.5}\n",
      "Box: 0.1\n",
      "\n",
      "(GS - SVR) - SVR: 12 - TR MEE 2.4053235503415973 - VL MEE 2.1415707244164737 - MODEL: \n",
      "Kernel: linear\n",
      "W: [[3.00825798]]\n",
      "Intercept: [-0.69195408]\\Optim_args: {'eps': 0.01, 'maxiter': 3000.0, 'vareps': 0.1}\n",
      "Box: 0.1\n",
      "\n",
      "(GS - SVR) - SVR: 13 - TR MEE 3.844079561101054 - VL MEE 5.356236663473963 - MODEL: \n",
      "Kernel: linear\n",
      "W: [[2.87954579]]\n",
      "Intercept: [5.80801138]\\Optim_args: {'eps': 0.041772659156260175, 'maxiter': 3000.0, 'vareps': 0.5}\n",
      "Box: 0.1\n",
      "\n",
      "(GS - SVR) - SVR: 14 - TR MEE 3.196293554508525 - VL MEE 3.690734862353054 - MODEL: \n",
      "Kernel: linear\n",
      "W: [[3.10428762]]\n",
      "Intercept: [-5.54145085]\\Optim_args: {'eps': 0.00675602860634024, 'maxiter': 3000.0, 'vareps': 0.5}\n",
      "Box: 0.1\n",
      "\n",
      "(GS - SVR) - SVR: 15 - TR MEE 4.595826063383942 - VL MEE 6.667029450485167 - MODEL: \n",
      "Kernel: linear\n",
      "W: [[2.84537029]]\n",
      "Intercept: [7.53387417]\\Optim_args: {'eps': 0.0837949836588792, 'maxiter': 3000.0, 'vareps': 0.5}\n",
      "Box: 0.1\n",
      "\n",
      "(GS - SVR) - SVR: 16 - TR MEE 4.354571894122812 - VL MEE 5.9825901082331585 - MODEL: \n",
      "Kernel: linear\n",
      "W: [[3.16161078]]\n",
      "Intercept: [-8.43627053]\\Optim_args: {'eps': 0.030200066780006606, 'maxiter': 3000.0, 'vareps': 0.5}\n",
      "Box: 0.1\n",
      "\n",
      "(GS - SVR) - SVR: 17 - TR MEE 6.218427431424022 - VL MEE 9.304313875414664 - MODEL: \n",
      "Kernel: linear\n",
      "W: [[3.24465387]]\n",
      "Intercept: [-12.62994678]\\Optim_args: {'eps': 0.07050578369322316, 'maxiter': 3000.0, 'vareps': 0.5}\n",
      "Box: 0.1\n",
      "\n",
      "(GS - SVR) - SVR: 18 - TR MEE 2.4053235503415973 - VL MEE 2.1415707244164737 - MODEL: \n",
      "Kernel: linear\n",
      "W: [[3.00825798]]\n",
      "Intercept: [-0.69195408]\\Optim_args: {'eps': 0.01, 'maxiter': 3000.0, 'vareps': 0.1}\n",
      "Box: 0.1\n",
      "\n",
      "(GS - SVR) - SVR: 19 - TR MEE 3.844079561101054 - VL MEE 5.356236663473963 - MODEL: \n",
      "Kernel: linear\n",
      "W: [[2.87954579]]\n",
      "Intercept: [5.80801138]\\Optim_args: {'eps': 0.041772659156260175, 'maxiter': 3000.0, 'vareps': 0.5}\n",
      "Box: 0.1\n",
      "\n",
      "(GS - SVR) - SVR: 20 - TR MEE 3.196293554508525 - VL MEE 3.690734862353054 - MODEL: \n",
      "Kernel: linear\n",
      "W: [[3.10428762]]\n",
      "Intercept: [-5.54145085]\\Optim_args: {'eps': 0.00675602860634024, 'maxiter': 3000.0, 'vareps': 0.5}\n",
      "Box: 0.1\n",
      "\n",
      "(GS - SVR) - SVR: 21 - TR MEE 4.595826063383942 - VL MEE 6.667029450485167 - MODEL: \n",
      "Kernel: linear\n",
      "W: [[2.84537029]]\n",
      "Intercept: [7.53387417]\\Optim_args: {'eps': 0.0837949836588792, 'maxiter': 3000.0, 'vareps': 0.5}\n",
      "Box: 0.1\n",
      "\n",
      "(GS - SVR) - SVR: 22 - TR MEE 4.354571894122812 - VL MEE 5.9825901082331585 - MODEL: \n",
      "Kernel: linear\n",
      "W: [[3.16161078]]\n",
      "Intercept: [-8.43627053]\\Optim_args: {'eps': 0.030200066780006606, 'maxiter': 3000.0, 'vareps': 0.5}\n",
      "Box: 0.1\n",
      "\n",
      "(GS - SVR) - SVR: 23 - TR MEE 6.218427431424022 - VL MEE 9.304313875414664 - MODEL: \n",
      "Kernel: linear\n",
      "W: [[3.24465387]]\n",
      "Intercept: [-12.62994678]\\Optim_args: {'eps': 0.07050578369322316, 'maxiter': 3000.0, 'vareps': 0.5}\n",
      "Box: 0.1\n",
      "\n",
      "(GS - SVR) - SVR: 24 - TR MEE 2.4053235503415973 - VL MEE 2.1415707244164737 - MODEL: \n",
      "Kernel: linear\n",
      "W: [[3.00825798]]\n",
      "Intercept: [-0.69195408]\\Optim_args: {'eps': 0.01, 'maxiter': 3000.0, 'vareps': 0.1}\n",
      "Box: 0.1\n",
      "\n",
      "(GS - SVR) - SVR: 25 - TR MEE 3.844079561101054 - VL MEE 5.356236663473963 - MODEL: \n",
      "Kernel: linear\n",
      "W: [[2.87954579]]\n",
      "Intercept: [5.80801138]\\Optim_args: {'eps': 0.041772659156260175, 'maxiter': 3000.0, 'vareps': 0.5}\n",
      "Box: 0.1\n",
      "\n",
      "(GS - SVR) - SVR: 26 - TR MEE 3.196293554508525 - VL MEE 3.690734862353054 - MODEL: \n",
      "Kernel: linear\n",
      "W: [[3.10428762]]\n",
      "Intercept: [-5.54145085]\\Optim_args: {'eps': 0.00675602860634024, 'maxiter': 3000.0, 'vareps': 0.5}\n",
      "Box: 0.1\n",
      "\n",
      "(GS - SVR) - SVR: 27 - TR MEE 4.595826063383942 - VL MEE 6.667029450485167 - MODEL: \n",
      "Kernel: linear\n",
      "W: [[2.84537029]]\n",
      "Intercept: [7.53387417]\\Optim_args: {'eps': 0.0837949836588792, 'maxiter': 3000.0, 'vareps': 0.5}\n",
      "Box: 0.1\n",
      "\n",
      "(GS - SVR) - SVR: 28 - TR MEE 4.354571894122812 - VL MEE 5.9825901082331585 - MODEL: \n",
      "Kernel: linear\n",
      "W: [[3.16161078]]\n",
      "Intercept: [-8.43627053]\\Optim_args: {'eps': 0.030200066780006606, 'maxiter': 3000.0, 'vareps': 0.5}\n",
      "Box: 0.1\n",
      "\n",
      "(GS - SVR) - SVR: 29 - TR MEE 6.218427431424022 - VL MEE 9.304313875414664 - MODEL: \n",
      "Kernel: linear\n",
      "W: [[3.24465387]]\n",
      "Intercept: [-12.62994678]\\Optim_args: {'eps': 0.07050578369322316, 'maxiter': 3000.0, 'vareps': 0.5}\n",
      "Box: 0.1\n",
      "\n",
      "(GS - SVR) - SVR: 30 - TR MEE 2.4053235503415973 - VL MEE 2.1415707244164737 - MODEL: \n",
      "Kernel: linear\n",
      "W: [[3.00825798]]\n",
      "Intercept: [-0.69195408]\\Optim_args: {'eps': 0.01, 'maxiter': 3000.0, 'vareps': 0.1}\n",
      "Box: 0.1\n",
      "\n",
      "(GS - SVR) - SVR: 31 - TR MEE 3.844079561101054 - VL MEE 5.356236663473963 - MODEL: \n",
      "Kernel: linear\n",
      "W: [[2.87954579]]\n",
      "Intercept: [5.80801138]\\Optim_args: {'eps': 0.041772659156260175, 'maxiter': 3000.0, 'vareps': 0.5}\n",
      "Box: 0.1\n",
      "\n",
      "(GS - SVR) - SVR: 32 - TR MEE 3.196293554508525 - VL MEE 3.690734862353054 - MODEL: \n",
      "Kernel: linear\n",
      "W: [[3.10428762]]\n",
      "Intercept: [-5.54145085]\\Optim_args: {'eps': 0.00675602860634024, 'maxiter': 3000.0, 'vareps': 0.5}\n",
      "Box: 0.1\n",
      "\n",
      "(GS - SVR) - SVR: 33 - TR MEE 4.595826063383942 - VL MEE 6.667029450485167 - MODEL: \n",
      "Kernel: linear\n",
      "W: [[2.84537029]]\n",
      "Intercept: [7.53387417]\\Optim_args: {'eps': 0.0837949836588792, 'maxiter': 3000.0, 'vareps': 0.5}\n",
      "Box: 0.1\n",
      "\n",
      "(GS - SVR) - SVR: 34 - TR MEE 4.354571894122812 - VL MEE 5.9825901082331585 - MODEL: \n",
      "Kernel: linear\n",
      "W: [[3.16161078]]\n",
      "Intercept: [-8.43627053]\\Optim_args: {'eps': 0.030200066780006606, 'maxiter': 3000.0, 'vareps': 0.5}\n",
      "Box: 0.1\n",
      "\n",
      "(GS - SVR) - SVR: 35 - TR MEE 6.218427431424022 - VL MEE 9.304313875414664 - MODEL: \n",
      "Kernel: linear\n",
      "W: [[3.24465387]]\n",
      "Intercept: [-12.62994678]\\Optim_args: {'eps': 0.07050578369322316, 'maxiter': 3000.0, 'vareps': 0.5}\n",
      "Box: 0.1\n",
      "\n",
      "(GS - SVR) - SVR: 36 - TR MEE 2.4053235503415973 - VL MEE 2.1415707244164737 - MODEL: \n",
      "Kernel: linear\n",
      "W: [[3.00825798]]\n",
      "Intercept: [-0.69195408]\\Optim_args: {'eps': 0.01, 'maxiter': 3000.0, 'vareps': 0.1}\n",
      "Box: 0.1\n",
      "\n",
      "(GS - SVR) - SVR: 37 - TR MEE 3.844079561101054 - VL MEE 5.356236663473963 - MODEL: \n",
      "Kernel: linear\n",
      "W: [[2.87954579]]\n",
      "Intercept: [5.80801138]\\Optim_args: {'eps': 0.041772659156260175, 'maxiter': 3000.0, 'vareps': 0.5}\n",
      "Box: 0.1\n",
      "\n",
      "(GS - SVR) - SVR: 38 - TR MEE 3.196293554508525 - VL MEE 3.690734862353054 - MODEL: \n",
      "Kernel: linear\n",
      "W: [[3.10428762]]\n",
      "Intercept: [-5.54145085]\\Optim_args: {'eps': 0.00675602860634024, 'maxiter': 3000.0, 'vareps': 0.5}\n",
      "Box: 0.1\n",
      "\n",
      "(GS - SVR) - SVR: 39 - TR MEE 4.595826063383942 - VL MEE 6.667029450485167 - MODEL: \n",
      "Kernel: linear\n",
      "W: [[2.84537029]]\n",
      "Intercept: [7.53387417]\\Optim_args: {'eps': 0.0837949836588792, 'maxiter': 3000.0, 'vareps': 0.5}\n",
      "Box: 0.1\n",
      "\n",
      "(GS - SVR) - SVR: 40 - TR MEE 4.354571894122812 - VL MEE 5.9825901082331585 - MODEL: \n",
      "Kernel: linear\n",
      "W: [[3.16161078]]\n",
      "Intercept: [-8.43627053]\\Optim_args: {'eps': 0.030200066780006606, 'maxiter': 3000.0, 'vareps': 0.5}\n",
      "Box: 0.1\n",
      "\n",
      "(GS - SVR) - SVR: 41 - TR MEE 6.218427431424022 - VL MEE 9.304313875414664 - MODEL: \n",
      "Kernel: linear\n",
      "W: [[3.24465387]]\n",
      "Intercept: [-12.62994678]\\Optim_args: {'eps': 0.07050578369322316, 'maxiter': 3000.0, 'vareps': 0.5}\n",
      "Box: 0.1\n",
      "\n",
      "(GS - SVR) - SVR: 42 - TR MEE 2.4053235503415973 - VL MEE 2.1415707244164737 - MODEL: \n",
      "Kernel: linear\n",
      "W: [[3.00825798]]\n",
      "Intercept: [-0.69195408]\\Optim_args: {'eps': 0.01, 'maxiter': 3000.0, 'vareps': 0.1}\n",
      "Box: 0.1\n",
      "\n",
      "(GS - SVR) - SVR: 43 - TR MEE 3.844079561101054 - VL MEE 5.356236663473963 - MODEL: \n",
      "Kernel: linear\n",
      "W: [[2.87954579]]\n",
      "Intercept: [5.80801138]\\Optim_args: {'eps': 0.041772659156260175, 'maxiter': 3000.0, 'vareps': 0.5}\n",
      "Box: 0.1\n",
      "\n",
      "(GS - SVR) - SVR: 44 - TR MEE 3.196293554508525 - VL MEE 3.690734862353054 - MODEL: \n",
      "Kernel: linear\n",
      "W: [[3.10428762]]\n",
      "Intercept: [-5.54145085]\\Optim_args: {'eps': 0.00675602860634024, 'maxiter': 3000.0, 'vareps': 0.5}\n",
      "Box: 0.1\n",
      "\n",
      "(GS - SVR) - SVR: 45 - TR MEE 4.595826063383942 - VL MEE 6.667029450485167 - MODEL: \n",
      "Kernel: linear\n",
      "W: [[2.84537029]]\n",
      "Intercept: [7.53387417]\\Optim_args: {'eps': 0.0837949836588792, 'maxiter': 3000.0, 'vareps': 0.5}\n",
      "Box: 0.1\n",
      "\n",
      "(GS - SVR) - SVR: 46 - TR MEE 4.354571894122812 - VL MEE 5.9825901082331585 - MODEL: \n",
      "Kernel: linear\n",
      "W: [[3.16161078]]\n",
      "Intercept: [-8.43627053]\\Optim_args: {'eps': 0.030200066780006606, 'maxiter': 3000.0, 'vareps': 0.5}\n",
      "Box: 0.1\n",
      "\n",
      "(GS - SVR) - SVR: 47 - TR MEE 6.218427431424022 - VL MEE 9.304313875414664 - MODEL: \n",
      "Kernel: linear\n",
      "W: [[3.24465387]]\n",
      "Intercept: [-12.62994678]\\Optim_args: {'eps': 0.07050578369322316, 'maxiter': 3000.0, 'vareps': 0.5}\n",
      "Box: 0.1\n",
      "\n",
      "(GS - SVR) - SVR: 48 - TR MEE 2.4053235503415973 - VL MEE 2.1415707244164737 - MODEL: \n",
      "Kernel: linear\n",
      "W: [[3.00825798]]\n",
      "Intercept: [-0.69195408]\\Optim_args: {'eps': 0.01, 'maxiter': 3000.0, 'vareps': 0.1}\n",
      "Box: 0.1\n",
      "\n",
      "(GS - SVR) - SVR: 49 - TR MEE 3.844079561101054 - VL MEE 5.356236663473963 - MODEL: \n",
      "Kernel: linear\n",
      "W: [[2.87954579]]\n",
      "Intercept: [5.80801138]\\Optim_args: {'eps': 0.041772659156260175, 'maxiter': 3000.0, 'vareps': 0.5}\n",
      "Box: 0.1\n",
      "\n",
      "(GS - SVR) - SVR: 50 - TR MEE 3.196293554508525 - VL MEE 3.690734862353054 - MODEL: \n",
      "Kernel: linear\n",
      "W: [[3.10428762]]\n",
      "Intercept: [-5.54145085]\\Optim_args: {'eps': 0.00675602860634024, 'maxiter': 3000.0, 'vareps': 0.5}\n",
      "Box: 0.1\n",
      "\n",
      "(GS - SVR) - SVR: 51 - TR MEE 4.595826063383942 - VL MEE 6.667029450485167 - MODEL: \n",
      "Kernel: linear\n",
      "W: [[2.84537029]]\n",
      "Intercept: [7.53387417]\\Optim_args: {'eps': 0.0837949836588792, 'maxiter': 3000.0, 'vareps': 0.5}\n",
      "Box: 0.1\n",
      "\n",
      "(GS - SVR) - SVR: 52 - TR MEE 4.354571894122812 - VL MEE 5.9825901082331585 - MODEL: \n",
      "Kernel: linear\n",
      "W: [[3.16161078]]\n",
      "Intercept: [-8.43627053]\\Optim_args: {'eps': 0.030200066780006606, 'maxiter': 3000.0, 'vareps': 0.5}\n",
      "Box: 0.1\n",
      "\n",
      "(GS - SVR) - SVR: 53 - TR MEE 6.218427431424022 - VL MEE 9.304313875414664 - MODEL: \n",
      "Kernel: linear\n",
      "W: [[3.24465387]]\n",
      "Intercept: [-12.62994678]\\Optim_args: {'eps': 0.07050578369322316, 'maxiter': 3000.0, 'vareps': 0.5}\n",
      "Box: 0.1\n",
      "\n",
      "(GS - SVR) - SVR: 54 - TR MEE 2.4053235503415973 - VL MEE 2.1415707244164737 - MODEL: \n",
      "Kernel: linear\n",
      "W: [[3.00825798]]\n",
      "Intercept: [-0.69195408]\\Optim_args: {'eps': 0.01, 'maxiter': 3000.0, 'vareps': 0.1}\n",
      "Box: 0.1\n",
      "\n",
      "(GS - SVR) - SVR: 55 - TR MEE 3.844079561101054 - VL MEE 5.356236663473963 - MODEL: \n",
      "Kernel: linear\n",
      "W: [[2.87954579]]\n",
      "Intercept: [5.80801138]\\Optim_args: {'eps': 0.041772659156260175, 'maxiter': 3000.0, 'vareps': 0.5}\n",
      "Box: 0.1\n",
      "\n",
      "(GS - SVR) - SVR: 56 - TR MEE 3.196293554508525 - VL MEE 3.690734862353054 - MODEL: \n",
      "Kernel: linear\n",
      "W: [[3.10428762]]\n",
      "Intercept: [-5.54145085]\\Optim_args: {'eps': 0.00675602860634024, 'maxiter': 3000.0, 'vareps': 0.5}\n",
      "Box: 0.1\n",
      "\n",
      "(GS - SVR) - SVR: 57 - TR MEE 4.595826063383942 - VL MEE 6.667029450485167 - MODEL: \n",
      "Kernel: linear\n",
      "W: [[2.84537029]]\n",
      "Intercept: [7.53387417]\\Optim_args: {'eps': 0.0837949836588792, 'maxiter': 3000.0, 'vareps': 0.5}\n",
      "Box: 0.1\n",
      "\n",
      "(GS - SVR) - SVR: 58 - TR MEE 4.354571894122812 - VL MEE 5.9825901082331585 - MODEL: \n",
      "Kernel: linear\n",
      "W: [[3.16161078]]\n",
      "Intercept: [-8.43627053]\\Optim_args: {'eps': 0.030200066780006606, 'maxiter': 3000.0, 'vareps': 0.5}\n",
      "Box: 0.1\n",
      "\n",
      "(GS - SVR) - SVR: 59 - TR MEE 6.218427431424022 - VL MEE 9.304313875414664 - MODEL: \n",
      "Kernel: linear\n",
      "W: [[3.24465387]]\n",
      "Intercept: [-12.62994678]\\Optim_args: {'eps': 0.07050578369322316, 'maxiter': 3000.0, 'vareps': 0.5}\n",
      "Box: 0.1\n",
      "\n",
      "(GS - SVR) - Best configuration: 0\n",
      "BEST FINE GRID SEARCH MODEL: \n",
      "Kernel: linear\n",
      "W: [[3.00825798]]\n",
      "Intercept: [-0.69195408]\\Optim_args: {'eps': 0.01, 'maxiter': 3000.0, 'vareps': 0.1}\n",
      "Box: 0.1\n",
      "T LOSS: [571.46496728]\n",
      "V LOSS: [97.55321161]\n"
     ]
    }
   ],
   "source": [
    "tr_x, val_x = x[:len(x)-len(x)//5], x[len(x)-len(x)//5:]\n",
    "tr_y, val_y = y[:len(y)-len(y)//5], y[len(y)-len(y)//5:]\n",
    "gs = Gridsearch()\n",
    "gs.set_parameters(\n",
    "    kernel=[\"linear\"],\n",
    "        kparam=[{}],\n",
    "        box=[0.1,1,10],\n",
    "        eps=[0.1,0.5],\n",
    "        optiargs=[{'eps':1e-2, 'maxiter':3e3}, {'eps':5e-3, 'maxiter':3e3}, {'eps':5e-4, 'maxiter':3e3}]\n",
    ")\n",
    "best_coarse_model = gs.run(\n",
    "    tr_x, tr_y, val_x, val_y\n",
    ")\n",
    "\n",
    "print(\"BEST COARSE GRID SEARCH MODEL:\",best_coarse_model)\n",
    "\n",
    "svr = best_coarse_model\n",
    "kernel, kparam, optiargs, eps, box  = gs.get_model_perturbations(best_coarse_model, 10, 6)\n",
    "print(kernel, kparam, optiargs)\n",
    "gs.set_parameters(\n",
    "    eps=eps,\n",
    "    box=box,\n",
    "    kernel=kernel,\n",
    "    kparam=kparam,\n",
    "    optiargs=optiargs\n",
    ")\n",
    "best_fine_model = gs.run(\n",
    "    x, y, val_x, val_y\n",
    ")\n",
    "print(\"BEST FINE GRID SEARCH MODEL:\", best_fine_model)\n",
    "\n",
    "svr = best_fine_model\n",
    "pred = [float(svr.predict(x[i])) for i in range(x.shape[0])]\n",
    "print(\"T LOSS:\", svr.eps_ins_loss(y, pred))\n",
    "\n",
    "pred = [float(svr.predict(val_x[i])) for i in range(val_x.shape[0])]\n",
    "print(\"V LOSS:\", svr.eps_ins_loss(val_y, pred))"
   ]
  },
  {
   "cell_type": "code",
   "execution_count": 3,
   "metadata": {},
   "outputs": [
    {
     "name": "stdout",
     "output_type": "stream",
     "text": [
      "Fit time: 10.095087051391602, #SV: 100\n",
      "elapsed time 10.095087051391602\n"
     ]
    }
   ],
   "source": [
    "# taking parameters from sklearn.. \n",
    "start = time.time()\n",
    "svr = SVR(\"linear\", box=0.1)\n",
    "svr.fit(x, y, {'eps': 0.01, 'maxiter': 3000.0, 'vareps': 0.1}, optim_verbose=False)\n",
    "print(f\"elapsed time {time.time() - start}\")"
   ]
  },
  {
   "cell_type": "code",
   "execution_count": 4,
   "metadata": {},
   "outputs": [
    {
     "name": "stdout",
     "output_type": "stream",
     "text": [
      "W : [[2.97877496]] - b: [0.86083532]\n",
      "Box: 0.1\n",
      "PREDICTION (INPUT = 50) [149.79958352]\n",
      "LOSS: [715.73127001]\n"
     ]
    },
    {
     "data": {
      "image/png": "[encoded data removed]",
      "text/plain": [
       "<Figure size 432x288 with 1 Axes>"
      ]
     },
     "metadata": {
      "needs_background": "light"
     },
     "output_type": "display_data"
    },
    {
     "data": {
      "text/plain": [
       "0.9989782601392988"
      ]
     },
     "execution_count": 4,
     "metadata": {},
     "output_type": "execute_result"
    }
   ],
   "source": [
    "to_predict = 50\n",
    "pred = svr.predict(to_predict)\n",
    "print(f\"W : {svr.W} - b: {svr.intercept}\")\n",
    "print(f\"Box: {svr.box}\")\n",
    "print(f'PREDICTION (INPUT = {to_predict})', pred)\n",
    "pred = [float(svr.predict(np.array([x[i]]))) for i in range(x.size)]\n",
    "print(\"LOSS:\", svr.eps_ins_loss(y, pred))\n",
    "plt.scatter(x, y , color=\"red\")\n",
    "plt.plot(x, pred, color=\"blue\")\n",
    "plt.title('SVR')\n",
    "plt.xlabel('Input')\n",
    "plt.ylabel('Output')\n",
    "plt.show()\n",
    "r2_score(y, pred)"
   ]
  },
  {
   "cell_type": "code",
   "execution_count": 20,
   "metadata": {},
   "outputs": [
    {
     "name": "stdout",
     "output_type": "stream",
     "text": [
      "[LibSVM]elapsed time 0.00400090217590332\n",
      "W : [[2.98044908]] - b: [0.21272282]\n",
      "Box: 0.1\n",
      "PREDICTION (INPUT = 50) [149.23517678]\n"
     ]
    },
    {
     "data": {
      "image/png": "[encoded data removed]",
      "text/plain": [
       "<Figure size 800x800 with 1 Axes>"
      ]
     },
     "metadata": {
      "needs_background": "light"
     },
     "output_type": "display_data"
    },
    {
     "data": {
      "text/plain": [
       "0.9989250186262251"
      ]
     },
     "execution_count": 20,
     "metadata": {},
     "output_type": "execute_result"
    }
   ],
   "source": [
    "import sklearn.svm as ss\n",
    "from matplotlib.pyplot import figure\n",
    "start = time.time()\n",
    "regressor = ss.SVR(kernel = 'linear', C=0.1, max_iter=3000)\n",
    "regressor.verbose = True\n",
    "regressor.fit(x, y.ravel())\n",
    "print(f\"elapsed time {time.time() - start}\")\n",
    "y_pred = regressor.predict(np.array([[to_predict]]))\n",
    "print(f\"W : {regressor.coef_} - b: {regressor.intercept_}\")\n",
    "print(f\"Box: {regressor.get_params()['C']}\")\n",
    "print(f'PREDICTION (INPUT = {to_predict})', y_pred)\n",
    "sklearn_predict = regressor.predict(x)\n",
    "figure(figsize=(10,10), dpi=80)\n",
    "plt.scatter(x, y, color = 'red')\n",
    "plt.plot(x, sklearn_predict, color = 'blue', label='sklearn')\n",
    "plt.plot(x, pred, color = 'green', label='our model')\n",
    "plt.title('Linear Dataset - SVR')\n",
    "plt.xlabel('Input')\n",
    "plt.ylabel('Output')\n",
    "plt.legend()\n",
    "plt.show()\n",
    "\n",
    "r2_score(y, sklearn_predict)"
   ]
  },
  {
   "cell_type": "code",
   "execution_count": 19,
   "metadata": {},
   "outputs": [
    {
     "data": {
      "text/plain": [
       "False"
      ]
     },
     "execution_count": 19,
     "metadata": {},
     "output_type": "execute_result"
    }
   ],
   "source": [
    "regressor.verbose"
   ]
  },
  {
   "cell_type": "code",
   "execution_count": 25,
   "metadata": {},
   "outputs": [
    {
     "data": {
      "text/plain": [
       "(99,\n",
       " array([ 0,  1,  2,  3,  4,  5,  6,  7,  8,  9, 10, 11, 12, 13, 14, 15, 16,\n",
       "        17, 18, 19, 20, 21, 22, 23, 24, 25, 26, 27, 28, 29, 30, 31, 32, 33,\n",
       "        34, 35, 36, 37, 38, 39, 40, 41, 42, 43, 44, 45, 46, 47, 48, 49, 50,\n",
       "        51, 52, 53, 54, 55, 56, 57, 58, 59, 60, 61, 62, 63, 64, 65, 66, 67,\n",
       "        68, 69, 70, 71, 72, 73, 74, 75, 76, 77, 78, 80, 81, 82, 83, 84, 85,\n",
       "        86, 87, 88, 89, 90, 91, 92, 93, 94, 95, 96, 97, 98, 99]))"
      ]
     },
     "execution_count": 25,
     "metadata": {},
     "output_type": "execute_result"
    }
   ],
   "source": [
    "len(regressor.support_), regressor.support_"
   ]
  },
  {
   "cell_type": "code",
   "execution_count": 6,
   "metadata": {},
   "outputs": [
    {
     "data": {
      "text/plain": [
       "0.1"
      ]
     },
     "execution_count": 6,
     "metadata": {},
     "output_type": "execute_result"
    }
   ],
   "source": [
    "regressor.epsilon"
   ]
  },
  {
   "cell_type": "code",
   "execution_count": 7,
   "metadata": {},
   "outputs": [
    {
     "data": {
      "text/plain": [
       "3000"
      ]
     },
     "execution_count": 7,
     "metadata": {},
     "output_type": "execute_result"
    }
   ],
   "source": [
    "regressor.max_iter"
   ]
  },
  {
   "cell_type": "code",
   "execution_count": 8,
   "metadata": {},
   "outputs": [
    {
     "data": {
      "text/plain": [
       "array([0.21272282])"
      ]
     },
     "execution_count": 8,
     "metadata": {},
     "output_type": "execute_result"
    }
   ],
   "source": [
    "regressor.intercept_"
   ]
  },
  {
   "cell_type": "code",
   "execution_count": 10,
   "metadata": {},
   "outputs": [
    {
     "data": {
      "text/plain": [
       "dict_keys(['C', 'cache_size', 'coef0', 'degree', 'epsilon', 'gamma', 'kernel', 'max_iter', 'shrinking', 'tol', 'verbose'])"
      ]
     },
     "execution_count": 10,
     "metadata": {},
     "output_type": "execute_result"
    }
   ],
   "source": [
    "params = regressor.get_params()\n",
    "params.keys()"
   ]
  },
  {
   "cell_type": "code",
   "execution_count": 13,
   "metadata": {},
   "outputs": [
    {
     "data": {
      "text/plain": [
       "'linear'"
      ]
     },
     "execution_count": 13,
     "metadata": {},
     "output_type": "execute_result"
    }
   ],
   "source": [
    "regressor.kernel"
   ]
  },
  {
   "cell_type": "code",
   "execution_count": 11,
   "metadata": {},
   "outputs": [
    {
     "data": {
      "text/plain": [
       "'scale'"
      ]
     },
     "execution_count": 11,
     "metadata": {},
     "output_type": "execute_result"
    }
   ],
   "source": [
    "params['gamma']"
   ]
  },
  {
   "cell_type": "code",
   "execution_count": 12,
   "metadata": {},
   "outputs": [
    {
     "data": {
      "text/plain": [
       "0.1"
      ]
     },
     "execution_count": 12,
     "metadata": {},
     "output_type": "execute_result"
    }
   ],
   "source": [
    "params['C']"
   ]
  },
  {
   "cell_type": "code",
   "execution_count": 21,
   "metadata": {},
   "outputs": [
    {
     "data": {
      "text/plain": [
       "array([[2.98744902]])"
      ]
     },
     "execution_count": 21,
     "metadata": {},
     "output_type": "execute_result"
    }
   ],
   "source": [
    "regressor.coef_"
   ]
  },
  {
   "cell_type": "code",
   "execution_count": 26,
   "metadata": {},
   "outputs": [
    {
     "data": {
      "text/plain": [
       "array([[ 0.1       , -0.1       , -0.1       ,  0.1       ,  0.1       ,\n",
       "         0.1       ,  0.1       ,  0.1       , -0.1       ,  0.1       ,\n",
       "        -0.1       ,  0.1       , -0.1       , -0.00674941, -0.1       ,\n",
       "         0.1       ,  0.1       , -0.1       ,  0.1       ,  0.1       ,\n",
       "        -0.1       , -0.1       ,  0.1       , -0.1       , -0.1       ,\n",
       "        -0.1       , -0.1       , -0.1       , -0.1       , -0.1       ,\n",
       "         0.1       ,  0.1       , -0.1       , -0.1       ,  0.1       ,\n",
       "        -0.1       , -0.1       , -0.1       , -0.1       , -0.1       ,\n",
       "        -0.1       , -0.1       , -0.1       ,  0.1       ,  0.1       ,\n",
       "         0.1       , -0.1       ,  0.1       ,  0.1       ,  0.1       ,\n",
       "         0.1       ,  0.1       , -0.1       , -0.1       ,  0.1       ,\n",
       "         0.1       ,  0.1       ,  0.1       ,  0.1       ,  0.1       ,\n",
       "        -0.1       ,  0.1       , -0.1       ,  0.1       ,  0.1       ,\n",
       "         0.1       ,  0.1       ,  0.1       , -0.1       ,  0.1       ,\n",
       "        -0.1       , -0.1       , -0.1       , -0.1       , -0.1       ,\n",
       "        -0.1       ,  0.1       , -0.1       ,  0.1       , -0.1       ,\n",
       "        -0.1       , -0.1       ,  0.1       ,  0.1       ,  0.1       ,\n",
       "         0.1       ,  0.1       , -0.1       ,  0.1       ,  0.1       ,\n",
       "        -0.1       , -0.1       ,  0.1       ,  0.1       ,  0.1       ,\n",
       "        -0.1       , -0.1       , -0.1       , -0.09325059]])"
      ]
     },
     "execution_count": 26,
     "metadata": {},
     "output_type": "execute_result"
    }
   ],
   "source": [
    "regressor.dual_coef_"
   ]
  },
  {
   "cell_type": "code",
   "execution_count": 14,
   "metadata": {},
   "outputs": [
    {
     "data": {
      "text/plain": [
       "99"
      ]
     },
     "execution_count": 14,
     "metadata": {},
     "output_type": "execute_result"
    }
   ],
   "source": [
    "len(regressor.dual_coef_[0])"
   ]
  },
  {
   "cell_type": "code",
   "execution_count": 29,
   "metadata": {},
   "outputs": [
    {
     "data": {
      "text/plain": [
       "100"
      ]
     },
     "execution_count": 29,
     "metadata": {},
     "output_type": "execute_result"
    }
   ],
   "source": [
    "regressor.shape_fit_[0]"
   ]
  },
  {
   "cell_type": "code",
   "execution_count": 48,
   "metadata": {},
   "outputs": [
    {
     "name": "stdout",
     "output_type": "stream",
     "text": [
      "X SHAPES: (100, 1)\n",
      "Y SHAPES: (100, 1)\n",
      "K: [[1.000e+00 2.000e+00 3.000e+00 ... 9.800e+01 9.900e+01 1.000e+02]\n",
      " [2.000e+00 4.000e+00 6.000e+00 ... 1.960e+02 1.980e+02 2.000e+02]\n",
      " [3.000e+00 6.000e+00 9.000e+00 ... 2.940e+02 2.970e+02 3.000e+02]\n",
      " ...\n",
      " [9.800e+01 1.960e+02 2.940e+02 ... 9.604e+03 9.702e+03 9.800e+03]\n",
      " [9.900e+01 1.980e+02 2.970e+02 ... 9.702e+03 9.801e+03 9.900e+03]\n",
      " [1.000e+02 2.000e+02 3.000e+02 ... 9.800e+03 9.900e+03 1.000e+04]]\n",
      "K SHAPES: (100, 100)\n"
     ]
    },
    {
     "data": {
      "text/plain": [
       "(array([[-27.26347446]]), -27.231948392095745)"
      ]
     },
     "execution_count": 48,
     "metadata": {},
     "output_type": "execute_result"
    }
   ],
   "source": [
    "sklearn_fstar(x, y, regressor), svr.history['fstar']"
   ]
  }
 ],
 "metadata": {
  "kernelspec": {
   "display_name": "Python 3",
   "language": "python",
   "name": "python3"
  },
  "language_info": {
   "codemirror_mode": {
    "name": "ipython",
    "version": 3
   },
   "file_extension": ".py",
   "mimetype": "text/x-python",
   "name": "python",
   "nbconvert_exporter": "python",
   "pygments_lexer": "ipython3",
   "version": "3.8.6"
  }
 },
 "nbformat": 4,
 "nbformat_minor": 4
}
