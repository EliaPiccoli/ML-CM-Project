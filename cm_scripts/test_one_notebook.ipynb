{
 "cells": [
  {
   "cell_type": "code",
   "execution_count": null,
   "metadata": {},
   "outputs": [],
   "source": [
    "import numpy as np\n",
    "from numpy.core.numeric import True_\n",
    "import get_cup_dataset as dt\n",
    "from SVR import SVR\n",
    "import time\n",
    "import matplotlib.pyplot as plt\n",
    "import sys\n",
    "import math"
   ]
  },
  {
   "cell_type": "code",
   "execution_count": null,
   "metadata": {},
   "outputs": [],
   "source": [
    "def plot_svr_predict(svr, x, y, pred, text=\"fig_title\"):\n",
    "    fig,axs = plt.subplots(2,5)\n",
    "    for i in range(x.shape[1]):\n",
    "        axs[i//(x.shape[1]//2)][i%(x.shape[1]//2)].scatter(x[:,i],y,color=\"red\",marker='x')\n",
    "        axs[i//(x.shape[1]//2)][i%(x.shape[1]//2)].scatter(x[:,i],pred,color=\"blue\",marker='.')\n",
    "    fig.suptitle(text)\n",
    "    plt.show()"
   ]
  },
  {
   "cell_type": "code",
   "execution_count": null,
   "metadata": {},
   "outputs": [],
   "source": [
    "data, data_out = dt._get_cup('train')\n",
    "test_split = 0.2\n",
    "test_len = int(len(data)*test_split)\n",
    "test, test_out = data[:test_len, :], data_out[:test_len, :]\n",
    "test_out1, test_out2 = test_out[:, 0], test_out[:, 1]\n",
    "dev_set, dev_out = data[test_len:, :], data_out[test_len:, :]\n",
    "dev_out1, dev_out2 = dev_out[:, 0], dev_out[:, 1]"
   ]
  },
  {
   "cell_type": "markdown",
   "metadata": {},
   "source": [
    "# LINEAR"
   ]
  },
  {
   "cell_type": "code",
   "execution_count": null,
   "metadata": {},
   "outputs": [],
   "source": [
    "cup_model = SVR('linear', box=0.1)\n",
    "# Train over the entire dev_set\n",
    "print(\"Training first model ... \")\n",
    "cup_model.fit(dev_set, dev_out1, optim_args={'eps': 0.08207142558242436, 'vareps': 0.5}, optim_verbose=False, convergence_verbose=True)\n",
    "pred_1 = [float(cup_model.predict(dev_set[i])) for i in range(dev_set.shape[0])]\n",
    "print(\"SUM OF eps-LOSS:\", cup_model.eps_ins_loss(dev_out1, pred_1))\n",
    "mee = 0\n",
    "for i in range(len(pred_1)):\n",
    "    mee += math.sqrt((dev_out1[i] - pred_1[i])**2)\n",
    "mee = mee/len(pred_1)\n",
    "print(f\"DEVSET MEE: {mee}\")\n",
    "plot_svr_predict(cup_model, dev_set, dev_out1, pred_1, text='1st output dim - Dev')\n",
    "# Test the final model\n",
    "print(\"Testing the model\")\n",
    "testpred_1 = [float(cup_model.predict(test[i])) for i in range(test.shape[0])]\n",
    "print(\"SUM OF eps-LOSS:\", cup_model.eps_ins_loss(test_out1, testpred_1))\n",
    "mee = 0\n",
    "for i in range(len(testpred_1)):\n",
    "    mee += math.sqrt((test_out1[i] - testpred_1[i])**2)\n",
    "mee = mee/len(testpred_1)\n",
    "print(f\"TEST MEE: {mee}\")\n",
    "plot_svr_predict(cup_model, test, test_out1, testpred_1, text='1st output dim - Test')"
   ]
  },
  {
   "cell_type": "code",
   "execution_count": null,
   "metadata": {},
   "outputs": [],
   "source": [
    "cup_model1 = SVR('linear', box=1)\n",
    "# Train over the entire dev_set\n",
    "print(\"Training first model ... \")\n",
    "cup_model1.fit(dev_set, dev_out1, optim_args={'eps': 0.08207142558242436, 'vareps': 0.5}, optim_verbose=False, convergence_verbose=True)\n",
    "pred_1 = [float(cup_model1.predict(dev_set[i])) for i in range(dev_set.shape[0])]\n",
    "print(\"SUM OF eps-LOSS:\", cup_model1.eps_ins_loss(dev_out1, pred_1))\n",
    "mee = 0\n",
    "for i in range(len(pred_1)):\n",
    "    mee += math.sqrt((dev_out1[i] - pred_1[i])**2)\n",
    "mee = mee/len(pred_1)\n",
    "print(f\"DEVSET MEE: {mee}\")\n",
    "plot_svr_predict(cup_model1, dev_set, dev_out1, pred_1, text='1st output dim - Dev')\n",
    "# Test the final model\n",
    "print(\"Testing the model\")\n",
    "testpred_1 = [float(cup_model1.predict(test[i])) for i in range(test.shape[0])]\n",
    "print(\"SUM OF eps-LOSS:\", cup_model1.eps_ins_loss(test_out1, testpred_1))\n",
    "mee = 0\n",
    "for i in range(len(testpred_1)):\n",
    "    mee += math.sqrt((test_out1[i] - testpred_1[i])**2)\n",
    "mee = mee/len(testpred_1)\n",
    "print(f\"TEST MEE: {mee}\")\n",
    "plot_svr_predict(cup_model1, test, test_out1, testpred_1, text='1st output dim - Test')"
   ]
  },
  {
   "cell_type": "code",
   "execution_count": null,
   "metadata": {},
   "outputs": [],
   "source": [
    "cup_model2 = SVR('linear', box=10)\n",
    "# Train over the entire dev_set\n",
    "print(\"Training first model ... \")\n",
    "cup_model2.fit(dev_set, dev_out1, optim_args={'eps': 0.08207142558242436, 'vareps': 0.5}, optim_verbose=False, convergence_verbose=True)\n",
    "pred_1 = [float(cup_model2.predict(dev_set[i])) for i in range(dev_set.shape[0])]\n",
    "print(\"SUM OF eps-LOSS:\", cup_model2.eps_ins_loss(dev_out1, pred_1))\n",
    "mee = 0\n",
    "for i in range(len(pred_1)):\n",
    "    mee += math.sqrt((dev_out1[i] - pred_1[i])**2)\n",
    "mee = mee/len(pred_1)\n",
    "print(f\"DEVSET MEE: {mee}\")\n",
    "plot_svr_predict(cup_model2, dev_set, dev_out1, pred_1, text='1st output dim - Dev')\n",
    "# Test the final model\n",
    "print(\"Testing the model\")\n",
    "testpred_1 = [float(cup_model2.predict(test[i])) for i in range(test.shape[0])]\n",
    "print(\"SUM OF eps-LOSS:\", cup_model2.eps_ins_loss(test_out1, testpred_1))\n",
    "mee = 0\n",
    "for i in range(len(testpred_1)):\n",
    "    mee += math.sqrt((test_out1[i] - testpred_1[i])**2)\n",
    "mee = mee/len(testpred_1)\n",
    "print(f\"TEST MEE: {mee}\")\n",
    "plot_svr_predict(cup_model2, test, test_out1, testpred_1, text='1st output dim - Test')"
   ]
  },
  {
   "cell_type": "code",
   "execution_count": null,
   "metadata": {},
   "outputs": [],
   "source": [
    "from sklearn.metrics import r2_score\n",
    "testpred_model_0 = [float(cup_model.predict(test[i])) for i in range(test.shape[0])]\n",
    "testpred_model_1 = [float(cup_model1.predict(test[i])) for i in range(test.shape[0])]\n",
    "testpred_model_2 = [float(cup_model2.predict(test[i])) for i in range(test.shape[0])]\n",
    "rscores = np.array([r2_score(test_out1, testpred_model_0), r2_score(test_out1, testpred_model_1), r2_score(test_out1, testpred_model_2)])"
   ]
  },
  {
   "cell_type": "code",
   "execution_count": null,
   "metadata": {
    "scrolled": false
   },
   "outputs": [],
   "source": [
    "fstar = cup_model.history['fstar'] if np.argmax(rscores) == 0 else cup_model1.history['fstar'] if np.argmax(rscores) == 1 else cup_model2.history['fstar']\n",
    "fig, axs = plt.subplots(2, figsize=(15,15))\n",
    "colors = ['blue', 'red', 'green']\n",
    "plot_conv_rate = []\n",
    "log_residual_error = []\n",
    "for i in range(len(cup_model.history['f']) - 1):\n",
    "    plot_conv_rate.append((cup_model.history['f'][i+1] - cup_model.history['fstar']) / (cup_model.history['f'][i] - cup_model.history['fstar']))\n",
    "    log_residual_error.append(np.log(np.abs(cup_model.history['f'][i] - fstar) / np.abs(fstar)))\n",
    "axs[0].plot(range(len(plot_conv_rate)), plot_conv_rate, color=colors[0])\n",
    "axs[0].set_ylabel(\"CONV_RATE\")\n",
    "axs[1].plot(range(len(log_residual_error)), log_residual_error, label='C=0.1', color=colors[0])\n",
    "axs[1].set_ylabel(\"LOG_RESIDUAL_ERROR\")\n",
    "\n",
    "plot_conv_rate = []\n",
    "log_residual_error = []\n",
    "for i in range(len(cup_model1.history['f']) - 1):\n",
    "    plot_conv_rate.append((cup_model1.history['f'][i+1] - cup_model1.history['fstar']) / (cup_model1.history['f'][i] - cup_model1.history['fstar']))\n",
    "    log_residual_error.append(np.log(np.abs(cup_model1.history['f'][i] - fstar) / np.abs(fstar)))\n",
    "axs[0].plot(range(len(plot_conv_rate)), plot_conv_rate, color=colors[1])\n",
    "axs[0].set_ylabel(\"CONV_RATE\")\n",
    "axs[1].plot(range(len(log_residual_error)), log_residual_error, label='C=1', color=colors[1])\n",
    "axs[1].set_ylabel(\"LOG_RESIDUAL_ERROR\")\n",
    "\n",
    "plot_conv_rate = []\n",
    "log_residual_error = []\n",
    "for i in range(len(cup_model2.history['f']) - 1):\n",
    "    plot_conv_rate.append((cup_model2.history['f'][i+1] - cup_model2.history['fstar']) / (cup_model2.history['f'][i] - cup_model2.history['fstar']))\n",
    "    log_residual_error.append(np.log(np.abs(cup_model2.history['f'][i] - fstar) / np.abs(fstar)))\n",
    "axs[0].plot(range(len(plot_conv_rate)), plot_conv_rate, color=colors[2])\n",
    "axs[0].set_ylabel(\"CONV_RATE\")\n",
    "axs[1].plot(range(len(log_residual_error)), log_residual_error, label='C=10', color=colors[2])\n",
    "axs[1].set_ylabel(\"LOG_RESIDUAL_ERROR\")\n",
    "plt.legend()\n",
    "plt.show()\n",
    "\n"
   ]
  },
  {
   "cell_type": "code",
   "execution_count": null,
   "metadata": {},
   "outputs": [],
   "source": [
    "cup_model.history['fstar'], cup_model1.history['fstar'], cup_model2.history['fstar'], rscores"
   ]
  },
  {
   "cell_type": "markdown",
   "metadata": {},
   "source": [
    "# POLY"
   ]
  },
  {
   "cell_type": "code",
   "execution_count": null,
   "metadata": {},
   "outputs": [],
   "source": [
    "cup_model = SVR('poly', box=0.1, kernel_args={'gamma': 0.075, \"degree\": 3, \"coef\": 0.28009269588038244})\n",
    "# Train over the entire dev_set\n",
    "print(\"Training first model ... \")\n",
    "cup_model.fit(dev_set, dev_out1, optim_args={'eps': 0.020433983780727916, 'vareps': 0.5}, optim_verbose=False, convergence_verbose=True)\n",
    "pred_1 = [float(cup_model.predict(dev_set[i])) for i in range(dev_set.shape[0])]\n",
    "print(\"SUM OF eps-LOSS:\", cup_model.eps_ins_loss(dev_out1, pred_1))\n",
    "mee = 0\n",
    "for i in range(len(pred_1)):\n",
    "    mee += math.sqrt((dev_out1[i] - pred_1[i])**2)\n",
    "mee = mee/len(pred_1)\n",
    "print(f\"DEVSET MEE: {mee}\")\n",
    "plot_svr_predict(cup_model, dev_set, dev_out1, pred_1, text='1st output dim - Dev')\n",
    "# Test the final model\n",
    "print(\"Testing the model\")\n",
    "testpred_1 = [float(cup_model.predict(test[i])) for i in range(test.shape[0])]\n",
    "print(\"SUM OF eps-LOSS:\", cup_model.eps_ins_loss(test_out1, testpred_1))\n",
    "mee = 0\n",
    "for i in range(len(testpred_1)):\n",
    "    mee += math.sqrt((test_out1[i] - testpred_1[i])**2)\n",
    "mee = mee/len(testpred_1)\n",
    "print(f\"TEST MEE: {mee}\")\n",
    "plot_svr_predict(cup_model, test, test_out1, testpred_1, text='1st output dim - Test')"
   ]
  },
  {
   "cell_type": "code",
   "execution_count": null,
   "metadata": {},
   "outputs": [],
   "source": [
    "cup_model1 = SVR('poly', box=1, kernel_args={'gamma': 0.075, \"degree\": 3, \"coef\": 0.28009269588038244})\n",
    "# Train over the entire dev_set\n",
    "print(\"Training first model ... \")\n",
    "cup_model1.fit(dev_set, dev_out1, optim_args={'eps': 0.020433983780727916, 'vareps': 0.5}, optim_verbose=False, convergence_verbose=True)\n",
    "pred_1 = [float(cup_model1.predict(dev_set[i])) for i in range(dev_set.shape[0])]\n",
    "print(\"SUM OF eps-LOSS:\", cup_model1.eps_ins_loss(dev_out1, pred_1))\n",
    "mee = 0\n",
    "for i in range(len(pred_1)):\n",
    "    mee += math.sqrt((dev_out1[i] - pred_1[i])**2)\n",
    "mee = mee/len(pred_1)\n",
    "print(f\"DEVSET MEE: {mee}\")\n",
    "plot_svr_predict(cup_model1, dev_set, dev_out1, pred_1, text='1st output dim - Dev')\n",
    "# Test the final model\n",
    "print(\"Testing the model\")\n",
    "testpred_1 = [float(cup_model1.predict(test[i])) for i in range(test.shape[0])]\n",
    "print(\"SUM OF eps-LOSS:\", cup_model1.eps_ins_loss(test_out1, testpred_1))\n",
    "mee = 0\n",
    "for i in range(len(testpred_1)):\n",
    "    mee += math.sqrt((test_out1[i] - testpred_1[i])**2)\n",
    "mee = mee/len(testpred_1)\n",
    "print(f\"TEST MEE: {mee}\")\n",
    "plot_svr_predict(cup_model1, test, test_out1, testpred_1, text='1st output dim - Test')"
   ]
  },
  {
   "cell_type": "code",
   "execution_count": null,
   "metadata": {},
   "outputs": [],
   "source": [
    "cup_model2 = SVR('poly', box=10, kernel_args={'gamma': 0.075, \"degree\": 3, \"coef\": 0.28009269588038244})\n",
    "# Train over the entire dev_set\n",
    "print(\"Training first model ... \")\n",
    "cup_model2.fit(dev_set, dev_out1, optim_args={'eps': 0.020433983780727916, 'vareps': 0.5}, optim_verbose=False, convergence_verbose=True)\n",
    "pred_1 = [float(cup_model2.predict(dev_set[i])) for i in range(dev_set.shape[0])]\n",
    "print(\"SUM OF eps-LOSS:\", cup_model2.eps_ins_loss(dev_out1, pred_1))\n",
    "mee = 0\n",
    "for i in range(len(pred_1)):\n",
    "    mee += math.sqrt((dev_out1[i] - pred_1[i])**2)\n",
    "mee = mee/len(pred_1)\n",
    "print(f\"DEVSET MEE: {mee}\")\n",
    "plot_svr_predict(cup_model2, dev_set, dev_out1, pred_1, text='1st output dim - Dev')\n",
    "# Test the final model\n",
    "print(\"Testing the model\")\n",
    "testpred_1 = [float(cup_model2.predict(test[i])) for i in range(test.shape[0])]\n",
    "print(\"SUM OF eps-LOSS:\", cup_model2.eps_ins_loss(test_out1, testpred_1))\n",
    "mee = 0\n",
    "for i in range(len(testpred_1)):\n",
    "    mee += math.sqrt((test_out1[i] - testpred_1[i])**2)\n",
    "mee = mee/len(testpred_1)\n",
    "print(f\"TEST MEE: {mee}\")\n",
    "plot_svr_predict(cup_model2, test, test_out1, testpred_1, text='1st output dim - Test')"
   ]
  },
  {
   "cell_type": "code",
   "execution_count": null,
   "metadata": {},
   "outputs": [],
   "source": [
    "from sklearn.metrics import r2_score\n",
    "testpred_model_0 = [float(cup_model.predict(test[i])) for i in range(test.shape[0])]\n",
    "testpred_model_1 = [float(cup_model1.predict(test[i])) for i in range(test.shape[0])]\n",
    "testpred_model_2 = [float(cup_model2.predict(test[i])) for i in range(test.shape[0])]\n",
    "rscores = np.array([r2_score(test_out1, testpred_model_0), r2_score(test_out1, testpred_model_1), r2_score(test_out1, testpred_model_2)])"
   ]
  },
  {
   "cell_type": "code",
   "execution_count": null,
   "metadata": {
    "scrolled": false
   },
   "outputs": [],
   "source": [
    "fstar = cup_model.history['fstar'] if np.argmax(rscores) == 0 else cup_model1.history['fstar'] if np.argmax(rscores) == 1 else cup_model2.history['fstar']\n",
    "fig, axs = plt.subplots(2, figsize=(15,15))\n",
    "colors = ['blue', 'red', 'green']\n",
    "plot_conv_rate = []\n",
    "log_residual_error = []\n",
    "for i in range(len(cup_model.history['f']) - 1):\n",
    "    plot_conv_rate.append((cup_model.history['f'][i+1] - cup_model.history['fstar']) / (cup_model.history['f'][i] - cup_model.history['fstar']))\n",
    "    log_residual_error.append(np.log(np.abs(cup_model.history['f'][i] - fstar) / np.abs(fstar)))\n",
    "axs[0].plot(range(len(plot_conv_rate)), plot_conv_rate, color=colors[0])\n",
    "axs[0].set_ylabel(\"CONV_RATE\")\n",
    "axs[1].plot(range(len(log_residual_error)), log_residual_error, label='C=0.1', color=colors[0])\n",
    "axs[1].set_ylabel(\"LOG_RESIDUAL_ERROR\")\n",
    "\n",
    "plot_conv_rate = []\n",
    "log_residual_error = []\n",
    "for i in range(len(cup_model1.history['f']) - 1):\n",
    "    plot_conv_rate.append((cup_model1.history['f'][i+1] - cup_model1.history['fstar']) / (cup_model1.history['f'][i] - cup_model1.history['fstar']))\n",
    "    log_residual_error.append(np.log(np.abs(cup_model1.history['f'][i] - fstar) / np.abs(fstar)))\n",
    "axs[0].plot(range(len(plot_conv_rate)), plot_conv_rate, color=colors[1])\n",
    "axs[0].set_ylabel(\"CONV_RATE\")\n",
    "axs[1].plot(range(len(log_residual_error)), log_residual_error, label='C=1', color=colors[1])\n",
    "axs[1].set_ylabel(\"LOG_RESIDUAL_ERROR\")\n",
    "\n",
    "plot_conv_rate = []\n",
    "log_residual_error = []\n",
    "for i in range(len(cup_model2.history['f']) - 1):\n",
    "    plot_conv_rate.append((cup_model2.history['f'][i+1] - cup_model2.history['fstar']) / (cup_model2.history['f'][i] - cup_model2.history['fstar']))\n",
    "    log_residual_error.append(np.log(np.abs(cup_model2.history['f'][i] - fstar) / np.abs(fstar)))\n",
    "axs[0].plot(range(len(plot_conv_rate)), plot_conv_rate, color=colors[2])\n",
    "axs[0].set_ylabel(\"CONV_RATE\")\n",
    "axs[1].plot(range(len(log_residual_error)), log_residual_error, label='C=10', color=colors[2])\n",
    "axs[1].set_ylabel(\"LOG_RESIDUAL_ERROR\")\n",
    "plt.legend()\n",
    "plt.show()\n",
    "\n"
   ]
  },
  {
   "cell_type": "code",
   "execution_count": null,
   "metadata": {},
   "outputs": [],
   "source": [
    "cup_model.history['fstar'], cup_model1.history['fstar'], cup_model2.history['fstar'], rscores"
   ]
  },
  {
   "cell_type": "markdown",
   "metadata": {},
   "source": [
    "# SIGMOID"
   ]
  },
  {
   "cell_type": "code",
   "execution_count": null,
   "metadata": {},
   "outputs": [],
   "source": [
    "cup_model = SVR('sigmoid', box=0.1, kernel_args={'gamma': 0.05})\n",
    "# Train over the entire dev_set\n",
    "print(\"Training first model ... \")\n",
    "cup_model.fit(dev_set, dev_out1, optim_args={'eps': 0.03408724777854869, 'vareps': 0.5}, optim_verbose=False, convergence_verbose=True)\n",
    "pred_1 = [float(cup_model.predict(dev_set[i])) for i in range(dev_set.shape[0])]\n",
    "print(\"SUM OF eps-LOSS:\", cup_model.eps_ins_loss(dev_out1, pred_1))\n",
    "mee = 0\n",
    "for i in range(len(pred_1)):\n",
    "    mee += math.sqrt((dev_out1[i] - pred_1[i])**2)\n",
    "mee = mee/len(pred_1)\n",
    "print(f\"DEVSET MEE: {mee}\")\n",
    "plot_svr_predict(cup_model, dev_set, dev_out1, pred_1, text='1st output dim - Dev')\n",
    "# Test the final model\n",
    "print(\"Testing the model\")\n",
    "testpred_1 = [float(cup_model.predict(test[i])) for i in range(test.shape[0])]\n",
    "print(\"SUM OF eps-LOSS:\", cup_model.eps_ins_loss(test_out1, testpred_1))\n",
    "mee = 0\n",
    "for i in range(len(testpred_1)):\n",
    "    mee += math.sqrt((test_out1[i] - testpred_1[i])**2)\n",
    "mee = mee/len(testpred_1)\n",
    "print(f\"TEST MEE: {mee}\")\n",
    "plot_svr_predict(cup_model, test, test_out1, testpred_1, text='1st output dim - Test')"
   ]
  },
  {
   "cell_type": "code",
   "execution_count": null,
   "metadata": {},
   "outputs": [],
   "source": [
    "cup_model1 = SVR('sigmoid', box=1, kernel_args={'gamma': 0.05})\n",
    "# Train over the entire dev_set\n",
    "print(\"Training first model ... \")\n",
    "cup_model1.fit(dev_set, dev_out1, optim_args={'eps': 0.03408724777854869, 'vareps': 0.5}, optim_verbose=False, convergence_verbose=True)\n",
    "pred_1 = [float(cup_model1.predict(dev_set[i])) for i in range(dev_set.shape[0])]\n",
    "print(\"SUM OF eps-LOSS:\", cup_model1.eps_ins_loss(dev_out1, pred_1))\n",
    "mee = 0\n",
    "for i in range(len(pred_1)):\n",
    "    mee += math.sqrt((dev_out1[i] - pred_1[i])**2)\n",
    "mee = mee/len(pred_1)\n",
    "print(f\"DEVSET MEE: {mee}\")\n",
    "plot_svr_predict(cup_model1, dev_set, dev_out1, pred_1, text='1st output dim - Dev')\n",
    "# Test the final model\n",
    "print(\"Testing the model\")\n",
    "testpred_1 = [float(cup_model1.predict(test[i])) for i in range(test.shape[0])]\n",
    "print(\"SUM OF eps-LOSS:\", cup_model1.eps_ins_loss(test_out1, testpred_1))\n",
    "mee = 0\n",
    "for i in range(len(testpred_1)):\n",
    "    mee += math.sqrt((test_out1[i] - testpred_1[i])**2)\n",
    "mee = mee/len(testpred_1)\n",
    "print(f\"TEST MEE: {mee}\")\n",
    "plot_svr_predict(cup_model1, test, test_out1, testpred_1, text='1st output dim - Test')"
   ]
  },
  {
   "cell_type": "code",
   "execution_count": null,
   "metadata": {},
   "outputs": [],
   "source": [
    "cup_model2 = SVR('sigmoid', box=10, kernel_args={'gamma': 0.05})\n",
    "# Train over the entire dev_set\n",
    "print(\"Training first model ... \")\n",
    "cup_model2.fit(dev_set, dev_out1, optim_args={'eps': 0.03408724777854869, 'vareps': 0.5}, optim_verbose=False, convergence_verbose=True)\n",
    "pred_1 = [float(cup_model2.predict(dev_set[i])) for i in range(dev_set.shape[0])]\n",
    "print(\"SUM OF eps-LOSS:\", cup_model2.eps_ins_loss(dev_out1, pred_1))\n",
    "mee = 0\n",
    "for i in range(len(pred_1)):\n",
    "    mee += math.sqrt((dev_out1[i] - pred_1[i])**2)\n",
    "mee = mee/len(pred_1)\n",
    "print(f\"DEVSET MEE: {mee}\")\n",
    "plot_svr_predict(cup_model2, dev_set, dev_out1, pred_1, text='1st output dim - Dev')\n",
    "# Test the final model\n",
    "print(\"Testing the model\")\n",
    "testpred_1 = [float(cup_model2.predict(test[i])) for i in range(test.shape[0])]\n",
    "print(\"SUM OF eps-LOSS:\", cup_model2.eps_ins_loss(test_out1, testpred_1))\n",
    "mee = 0\n",
    "for i in range(len(testpred_1)):\n",
    "    mee += math.sqrt((test_out1[i] - testpred_1[i])**2)\n",
    "mee = mee/len(testpred_1)\n",
    "print(f\"TEST MEE: {mee}\")\n",
    "plot_svr_predict(cup_model2, test, test_out1, testpred_1, text='1st output dim - Test')"
   ]
  },
  {
   "cell_type": "code",
   "execution_count": null,
   "metadata": {},
   "outputs": [],
   "source": [
    "from sklearn.metrics import r2_score\n",
    "testpred_model_0 = [float(cup_model.predict(test[i])) for i in range(test.shape[0])]\n",
    "testpred_model_1 = [float(cup_model1.predict(test[i])) for i in range(test.shape[0])]\n",
    "testpred_model_2 = [float(cup_model2.predict(test[i])) for i in range(test.shape[0])]\n",
    "rscores = np.array([r2_score(test_out1, testpred_model_0), r2_score(test_out1, testpred_model_1), r2_score(test_out1, testpred_model_2)])"
   ]
  },
  {
   "cell_type": "code",
   "execution_count": null,
   "metadata": {
    "scrolled": false
   },
   "outputs": [],
   "source": [
    "fstar = cup_model.history['fstar'] if np.argmax(rscores) == 0 else cup_model1.history['fstar'] if np.argmax(rscores) == 1 else cup_model2.history['fstar']\n",
    "fig, axs = plt.subplots(2, figsize=(15,15))\n",
    "colors = ['blue', 'red', 'green']\n",
    "plot_conv_rate = []\n",
    "log_residual_error = []\n",
    "for i in range(len(cup_model.history['f']) - 1):\n",
    "    plot_conv_rate.append((cup_model.history['f'][i+1] - cup_model.history['fstar']) / (cup_model.history['f'][i] - cup_model.history['fstar']))\n",
    "    log_residual_error.append(np.log(np.abs(cup_model.history['f'][i] - fstar) / np.abs(fstar)))\n",
    "axs[0].plot(range(len(plot_conv_rate)), plot_conv_rate, color=colors[0])\n",
    "axs[0].set_ylabel(\"CONV_RATE\")\n",
    "axs[1].plot(range(len(log_residual_error)), log_residual_error, label='C=0.1', color=colors[0])\n",
    "axs[1].set_ylabel(\"LOG_RESIDUAL_ERROR\")\n",
    "\n",
    "plot_conv_rate = []\n",
    "log_residual_error = []\n",
    "for i in range(len(cup_model1.history['f']) - 1):\n",
    "    plot_conv_rate.append((cup_model1.history['f'][i+1] - cup_model1.history['fstar']) / (cup_model1.history['f'][i] - cup_model1.history['fstar']))\n",
    "    log_residual_error.append(np.log(np.abs(cup_model1.history['f'][i] - fstar) / np.abs(fstar)))\n",
    "axs[0].plot(range(len(plot_conv_rate)), plot_conv_rate, color=colors[1])\n",
    "axs[0].set_ylabel(\"CONV_RATE\")\n",
    "axs[1].plot(range(len(log_residual_error)), log_residual_error, label='C=1', color=colors[1])\n",
    "axs[1].set_ylabel(\"LOG_RESIDUAL_ERROR\")\n",
    "\n",
    "plot_conv_rate = []\n",
    "log_residual_error = []\n",
    "for i in range(len(cup_model2.history['f']) - 1):\n",
    "    plot_conv_rate.append((cup_model2.history['f'][i+1] - cup_model2.history['fstar']) / (cup_model2.history['f'][i] - cup_model2.history['fstar']))\n",
    "    log_residual_error.append(np.log(np.abs(cup_model2.history['f'][i] - fstar) / np.abs(fstar)))\n",
    "axs[0].plot(range(len(plot_conv_rate)), plot_conv_rate, color=colors[2])\n",
    "axs[0].set_ylabel(\"CONV_RATE\")\n",
    "axs[1].plot(range(len(log_residual_error)), log_residual_error, label='C=10', color=colors[2])\n",
    "axs[1].set_ylabel(\"LOG_RESIDUAL_ERROR\")\n",
    "plt.legend()\n",
    "plt.show()\n",
    "\n"
   ]
  },
  {
   "cell_type": "code",
   "execution_count": null,
   "metadata": {},
   "outputs": [],
   "source": [
    "cup_model.history['fstar'], cup_model1.history['fstar'], cup_model2.history['fstar'], rscores"
   ]
  },
  {
   "cell_type": "markdown",
   "metadata": {},
   "source": [
    "# RBF"
   ]
  },
  {
   "cell_type": "code",
   "execution_count": null,
   "metadata": {},
   "outputs": [],
   "source": [
    "cup_model = SVR('rbf', box=0.1, kernel_args={'gamma': 0.1})\n",
    "# Train over the entire dev_set\n",
    "print(\"Training first model ... \")\n",
    "cup_model.fit(dev_set, dev_out1, optim_args={'eps': 0.08737368906085892, 'vareps': 0.1}, optim_verbose=False, convergence_verbose=True)\n",
    "pred_1 = [float(cup_model.predict(dev_set[i])) for i in range(dev_set.shape[0])]\n",
    "print(\"SUM OF eps-LOSS:\", cup_model.eps_ins_loss(dev_out1, pred_1))\n",
    "mee = 0\n",
    "for i in range(len(pred_1)):\n",
    "    mee += math.sqrt((dev_out1[i] - pred_1[i])**2)\n",
    "mee = mee/len(pred_1)\n",
    "print(f\"DEVSET MEE: {mee}\")\n",
    "plot_svr_predict(cup_model, dev_set, dev_out1, pred_1, text='1st output dim - Dev')\n",
    "# Test the final model\n",
    "print(\"Testing the model\")\n",
    "testpred_1 = [float(cup_model.predict(test[i])) for i in range(test.shape[0])]\n",
    "print(\"SUM OF eps-LOSS:\", cup_model.eps_ins_loss(test_out1, testpred_1))\n",
    "mee = 0\n",
    "for i in range(len(testpred_1)):\n",
    "    mee += math.sqrt((test_out1[i] - testpred_1[i])**2)\n",
    "mee = mee/len(testpred_1)\n",
    "print(f\"TEST MEE: {mee}\")\n",
    "plot_svr_predict(cup_model, test, test_out1, testpred_1, text='1st output dim - Test')"
   ]
  },
  {
   "cell_type": "code",
   "execution_count": null,
   "metadata": {},
   "outputs": [],
   "source": [
    "cup_model1 = SVR('rbf', box=1.0, kernel_args={'gamma': 0.1})\n",
    "# Train over the entire dev_set\n",
    "print(\"Training first model ... \")\n",
    "cup_model1.fit(dev_set, dev_out1, optim_args={'eps': 0.08737368906085892, 'vareps': 0.1}, optim_verbose=False, convergence_verbose=True)\n",
    "pred_1 = [float(cup_model1.predict(dev_set[i])) for i in range(dev_set.shape[0])]\n",
    "print(\"SUM OF eps-LOSS:\", cup_model1.eps_ins_loss(dev_out1, pred_1))\n",
    "mee = 0\n",
    "for i in range(len(pred_1)):\n",
    "    mee += math.sqrt((dev_out1[i] - pred_1[i])**2)\n",
    "mee = mee/len(pred_1)\n",
    "print(f\"DEVSET MEE: {mee}\")\n",
    "plot_svr_predict(cup_model1, dev_set, dev_out1, pred_1, text='1st output dim - Dev')\n",
    "# Test the final model\n",
    "print(\"Testing the model\")\n",
    "testpred_1 = [float(cup_model1.predict(test[i])) for i in range(test.shape[0])]\n",
    "print(\"SUM OF eps-LOSS:\", cup_model1.eps_ins_loss(test_out1, testpred_1))\n",
    "mee = 0\n",
    "for i in range(len(testpred_1)):\n",
    "    mee += math.sqrt((test_out1[i] - testpred_1[i])**2)\n",
    "mee = mee/len(testpred_1)\n",
    "print(f\"TEST MEE: {mee}\")\n",
    "plot_svr_predict(cup_model1, test, test_out1, testpred_1, text='1st output dim - Test')"
   ]
  },
  {
   "cell_type": "code",
   "execution_count": null,
   "metadata": {},
   "outputs": [],
   "source": [
    "cup_model2 = SVR('rbf', box=0.1, kernel_args={'gamma': 10.0})\n",
    "# Train over the entire dev_set\n",
    "print(\"Training first model ... \")\n",
    "cup_model2.fit(dev_set, dev_out1, optim_args={'eps': 0.08737368906085892, 'vareps': 0.1}, optim_verbose=False, convergence_verbose=True)\n",
    "pred_1 = [float(cup_model2.predict(dev_set[i])) for i in range(dev_set.shape[0])]\n",
    "print(\"SUM OF eps-LOSS:\", cup_model2.eps_ins_loss(dev_out1, pred_1))\n",
    "mee = 0\n",
    "for i in range(len(pred_1)):\n",
    "    mee += math.sqrt((dev_out1[i] - pred_1[i])**2)\n",
    "mee = mee/len(pred_1)\n",
    "print(f\"DEVSET MEE: {mee}\")\n",
    "plot_svr_predict(cup_model2, dev_set, dev_out1, pred_1, text='1st output dim - Dev')\n",
    "# Test the final model\n",
    "print(\"Testing the model\")\n",
    "testpred_1 = [float(cup_model2.predict(test[i])) for i in range(test.shape[0])]\n",
    "print(\"SUM OF eps-LOSS:\", cup_model2.eps_ins_loss(test_out1, testpred_1))\n",
    "mee = 0\n",
    "for i in range(len(testpred_1)):\n",
    "    mee += math.sqrt((test_out1[i] - testpred_1[i])**2)\n",
    "mee = mee/len(testpred_1)\n",
    "print(f\"TEST MEE: {mee}\")\n",
    "plot_svr_predict(cup_model2, test, test_out1, testpred_1, text='1st output dim - Test')"
   ]
  },
  {
   "cell_type": "code",
   "execution_count": null,
   "metadata": {},
   "outputs": [],
   "source": [
    "from sklearn.metrics import r2_score\n",
    "testpred_model_0 = [float(cup_model.predict(test[i])) for i in range(test.shape[0])]\n",
    "testpred_model_1 = [float(cup_model1.predict(test[i])) for i in range(test.shape[0])]\n",
    "testpred_model_2 = [float(cup_model2.predict(test[i])) for i in range(test.shape[0])]\n",
    "rscores = np.array([r2_score(test_out1, testpred_model_0), r2_score(test_out1, testpred_model_1), r2_score(test_out1, testpred_model_2)])"
   ]
  },
  {
   "cell_type": "code",
   "execution_count": null,
   "metadata": {
    "scrolled": false
   },
   "outputs": [],
   "source": [
    "fstar = cup_model.history['fstar'] if np.argmax(rscores) == 0 else cup_model1.history['fstar'] if np.argmax(rscores) == 1 else cup_model2.history['fstar']\n",
    "fig, axs = plt.subplots(2, figsize=(15,15))\n",
    "colors = ['blue', 'red', 'green']\n",
    "plot_conv_rate = []\n",
    "log_residual_error = []\n",
    "for i in range(len(cup_model.history['f']) - 1):\n",
    "    plot_conv_rate.append((cup_model.history['f'][i+1] - cup_model.history['fstar']) / (cup_model.history['f'][i] - cup_model.history['fstar']))\n",
    "    log_residual_error.append(np.log(np.abs(cup_model.history['f'][i] - fstar) / np.abs(fstar)))\n",
    "axs[0].plot(range(len(plot_conv_rate)), plot_conv_rate, color=colors[0])\n",
    "axs[0].set_ylabel(\"CONV_RATE\")\n",
    "axs[1].plot(range(len(log_residual_error)), log_residual_error, label='C=0.1', color=colors[0])\n",
    "axs[1].set_ylabel(\"LOG_RESIDUAL_ERROR\")\n",
    "\n",
    "plot_conv_rate = []\n",
    "log_residual_error = []\n",
    "for i in range(len(cup_model1.history['f']) - 1):\n",
    "    plot_conv_rate.append((cup_model1.history['f'][i+1] - cup_model1.history['fstar']) / (cup_model1.history['f'][i] - cup_model1.history['fstar']))\n",
    "    log_residual_error.append(np.log(np.abs(cup_model1.history['f'][i] - fstar) / np.abs(fstar)))\n",
    "axs[0].plot(range(len(plot_conv_rate)), plot_conv_rate, color=colors[1])\n",
    "axs[0].set_ylabel(\"CONV_RATE\")\n",
    "axs[1].plot(range(len(log_residual_error)), log_residual_error, label='C=1', color=colors[1])\n",
    "axs[1].set_ylabel(\"LOG_RESIDUAL_ERROR\")\n",
    "\n",
    "plot_conv_rate = []\n",
    "log_residual_error = []\n",
    "for i in range(len(cup_model2.history['f']) - 1):\n",
    "    plot_conv_rate.append((cup_model2.history['f'][i+1] - cup_model2.history['fstar']) / (cup_model2.history['f'][i] - cup_model2.history['fstar']))\n",
    "    log_residual_error.append(np.log(np.abs(cup_model2.history['f'][i] - fstar) / np.abs(fstar)))\n",
    "axs[0].plot(range(len(plot_conv_rate)), plot_conv_rate, color=colors[2])\n",
    "axs[0].set_ylabel(\"CONV_RATE\")\n",
    "axs[1].plot(range(len(log_residual_error)), log_residual_error, label='C=10', color=colors[2])\n",
    "axs[1].set_ylabel(\"LOG_RESIDUAL_ERROR\")\n",
    "plt.legend()\n",
    "plt.show()\n",
    "\n"
   ]
  },
  {
   "cell_type": "code",
   "execution_count": null,
   "metadata": {},
   "outputs": [],
   "source": [
    "cup_model.history['fstar'], cup_model1.history['fstar'], cup_model2.history['fstar'], rscores"
   ]
  }
 ],
 "metadata": {
  "kernelspec": {
   "display_name": "Python 3",
   "language": "python",
   "name": "python3"
  },
  "language_info": {
   "codemirror_mode": {
    "name": "ipython",
    "version": 3
   },
   "file_extension": ".py",
   "mimetype": "text/x-python",
   "name": "python",
   "nbconvert_exporter": "python",
   "pygments_lexer": "ipython3",
   "version": "3.8.6"
  }
 },
 "nbformat": 4,
 "nbformat_minor": 4
}
