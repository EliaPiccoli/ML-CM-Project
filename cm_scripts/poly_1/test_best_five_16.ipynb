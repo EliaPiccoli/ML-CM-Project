{
 "cells": [
  {
   "cell_type": "markdown",
   "metadata": {},
   "source": [
    "# RUN MODEL 16 WITH TARGET 17 (POLY 1st OUTPUT DIMENSION)"
   ]
  },
  {
   "cell_type": "code",
   "execution_count": null,
   "metadata": {},
   "outputs": [],
   "source": [
    "import pickle\n",
    "import sys\n",
    "sys.path.insert(0,'..')\n",
    "import get_cup_dataset as dt\n",
    "from SVR import SVR"
   ]
  },
  {
   "cell_type": "markdown",
   "metadata": {},
   "source": [
    "#### Fit the model"
   ]
  },
  {
   "cell_type": "code",
   "execution_count": null,
   "metadata": {},
   "outputs": [],
   "source": [
    "# get the data (first dimension)\n",
    "data, data_out = dt._get_cup('train')\n",
    "data_out = data_out[:, 0]\n",
    "# set very high cap on iterations\n",
    "maxiter = 250000\n",
    "# set parameters for 'acceptable' scenario\n",
    "max_error_target_func_value = 1e-3\n",
    "target_func_value = -27823.290077639565 # 17 (get_best_model_minimum_50k.ipynb)\n",
    "# create model fixing best model configurations (found with model grid search)\n",
    "cup_model = SVR('poly', box=10, kernel_args={'gamma': 0.075, \"degree\": 3, \"coef\": 0.28009269588038244})\n",
    "print(\"Training first model ... \")\n",
    "# run model fixing algorithmic parameters of required model\n",
    "opt_argv = {'alpha': 0.7, 'psi': 0.3, 'eps': 0.1, 'rho': 0.8, 'deltares': 0.00005, 'maxiter': maxiter, 'vareps': 0.1}  # 16\n",
    "cup_model.fit(data, data_out, optim_args=opt_argv, optim_verbose=False, convergence_verbose=True, max_error_target_func_value = max_error_target_func_value, target_func_value = target_func_value)"
   ]
  },
  {
   "cell_type": "code",
   "execution_count": null,
   "metadata": {},
   "outputs": [],
   "source": [
    "# show f_best value of current model, as well as with which status the value was reached and in how many iters\n",
    "cup_model.history['fstar'], cup_model.status, len(cup_model.history['f'])"
   ]
  },
  {
   "cell_type": "markdown",
   "metadata": {},
   "source": [
    "*f_best* = -28147.597863734696, *status* = 'stopped', *iterations* = 250001"
   ]
  },
  {
   "cell_type": "code",
   "execution_count": 7,
   "metadata": {},
   "outputs": [
    {
     "name": "stdout",
     "output_type": "stream",
     "text": [
      "GridSearch output succesfully saved to ../gs_models/gs_poly_1_16\n"
     ]
    }
   ],
   "source": [
    "import os\n",
    "save_path = \"../gs_models/gs_poly_1_16\"\n",
    "with open(save_path, \"wb\") as f:\n",
    "    pickle.dump({\"model\": cup_model}, f, protocol=pickle.HIGHEST_PROTOCOL)\n",
    "    print(f\"GridSearch output succesfully saved to {save_path}\")"
   ]
  }
 ],
 "metadata": {
  "kernelspec": {
   "display_name": "Python 3",
   "language": "python",
   "name": "python3"
  },
  "language_info": {
   "codemirror_mode": {
    "name": "ipython",
    "version": 3
   },
   "file_extension": ".py",
   "mimetype": "text/x-python",
   "name": "python",
   "nbconvert_exporter": "python",
   "pygments_lexer": "ipython3",
   "version": "3.8.6"
  }
 },
 "nbformat": 4,
 "nbformat_minor": 4
}
