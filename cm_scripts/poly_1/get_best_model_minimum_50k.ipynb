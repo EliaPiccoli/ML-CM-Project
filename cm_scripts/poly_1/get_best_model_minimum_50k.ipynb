{
 "cells": [
  {
   "cell_type": "markdown",
   "metadata": {},
   "source": [
    "# RUN BEST PERFORMING MODEL (50K ITER)"
   ]
  },
  {
   "cell_type": "code",
   "execution_count": 1,
   "metadata": {},
   "outputs": [],
   "source": [
    "import pickle\n",
    "import sys\n",
    "sys.path.insert(0,'..')\n",
    "import get_cup_dataset as dt\n",
    "from SVR import SVR"
   ]
  },
  {
   "cell_type": "markdown",
   "metadata": {},
   "source": [
    "#### Fit the model"
   ]
  },
  {
   "cell_type": "code",
   "execution_count": 2,
   "metadata": {},
   "outputs": [
    {
     "name": "stdout",
     "output_type": "stream",
     "text": [
      "Fit time: 1927.5166537761688, #SV: 1524\n"
     ]
    }
   ],
   "source": [
    "# get the data (first dimension)\n",
    "data, data_out = dt._get_cup('train')\n",
    "data_out = data_out[:, 0]\n",
    "# set cap on iterations\n",
    "maxiter = 50000\n",
    "# create model fixing best model configurations (found with model grid search)\n",
    "cup_model = SVR('poly', box=10, kernel_args={'gamma': 0.075, \"degree\": 3, \"coef\": 0.28009269588038244})\n",
    "# run model fixing best algorithmic configurations (found with algorithmic grid search)\n",
    "opt_argv = {'alpha': 0.7, 'psi': 0.5, 'eps': 0.1, 'rho': 0.9, 'deltares': 0.0001, 'maxiter': maxiter, 'vareps': 0.1}  # 17\n",
    "cup_model.fit(data, data_out, optim_args=opt_argv, optim_verbose=False, convergence_verbose=False)"
   ]
  },
  {
   "cell_type": "code",
   "execution_count": 3,
   "metadata": {},
   "outputs": [
    {
     "name": "stdout",
     "output_type": "stream",
     "text": [
      "f_best value: -27823.290077639565\n"
     ]
    }
   ],
   "source": [
    "# show f_best value, will be reference for model convergence analysis in file *gs_top5_res_err*\n",
    "print(\"f_best value:\", cup_model.history['fstar'])"
   ]
  },
  {
   "cell_type": "code",
   "execution_count": 4,
   "metadata": {},
   "outputs": [
    {
     "name": "stdout",
     "output_type": "stream",
     "text": [
      "GridSearch output succesfully saved to ../gs_models/gs_best_poly_1_50k\n"
     ]
    }
   ],
   "source": [
    "import os\n",
    "save_path = \"../gs_models/gs_best_poly_1_50k\"\n",
    "with open(save_path, \"wb\") as f:\n",
    "    pickle.dump({\"model\": cup_model}, f, protocol=pickle.HIGHEST_PROTOCOL)\n",
    "    print(f\"GridSearch output succesfully saved to {save_path}\")"
   ]
  }
 ],
 "metadata": {
  "kernelspec": {
   "display_name": "Python 3",
   "language": "python",
   "name": "python3"
  },
  "language_info": {
   "codemirror_mode": {
    "name": "ipython",
    "version": 3
   },
   "file_extension": ".py",
   "mimetype": "text/x-python",
   "name": "python",
   "nbconvert_exporter": "python",
   "pygments_lexer": "ipython3",
   "version": "3.8.6"
  }
 },
 "nbformat": 4,
 "nbformat_minor": 4
}
